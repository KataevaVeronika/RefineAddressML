{
 "cells": [
  {
   "cell_type": "code",
   "execution_count": 1,
   "metadata": {
    "_cell_guid": "b1076dfc-b9ad-4769-8c92-a6c4dae69d19",
    "_uuid": "8f2839f25d086af736a60e9eeb907d3b93b6e0e5",
    "execution": {
     "iopub.execute_input": "2020-09-29T15:58:58.502123Z",
     "iopub.status.busy": "2020-09-29T15:58:58.501291Z",
     "iopub.status.idle": "2020-09-29T15:59:08.144234Z",
     "shell.execute_reply": "2020-09-29T15:59:08.143379Z"
    },
    "papermill": {
     "duration": 9.671973,
     "end_time": "2020-09-29T15:59:08.144408",
     "exception": false,
     "start_time": "2020-09-29T15:58:58.472435",
     "status": "completed"
    },
    "tags": []
   },
   "outputs": [
    {
     "name": "stderr",
     "output_type": "stream",
     "text": [
      "\u001b[34m\u001b[1mwandb\u001b[0m: \u001b[33mWARNING\u001b[0m W&B installed but not logged in.  Run `wandb login` or set the WANDB_API_KEY env variable.\n"
     ]
    }
   ],
   "source": [
    "import keras.backend as K\n",
    "import numpy as np\n",
    "import pandas as pd\n",
    "import tensorflow as tf\n",
    "import transformers\n",
    "from tensorflow.keras.metrics import Precision, Recall\n",
    "from tensorflow.keras.layers import Dense, Input\n",
    "from tensorflow.keras.optimizers import Adam\n",
    "from tensorflow.keras.models import Model\n",
    "from tensorflow.keras.callbacks import ModelCheckpoint\n",
    "from tokenizers import BertWordPieceTokenizer\n",
    "from sklearn.model_selection import train_test_split\n",
    "from tqdm import tqdm\n",
    "from sklearn.metrics import classification_report"
   ]
  },
  {
   "cell_type": "code",
   "execution_count": 2,
   "metadata": {
    "execution": {
     "iopub.execute_input": "2020-09-29T15:59:08.189298Z",
     "iopub.status.busy": "2020-09-29T15:59:08.188552Z",
     "iopub.status.idle": "2020-09-29T15:59:08.191961Z",
     "shell.execute_reply": "2020-09-29T15:59:08.191366Z"
    },
    "papermill": {
     "duration": 0.027562,
     "end_time": "2020-09-29T15:59:08.192090",
     "exception": false,
     "start_time": "2020-09-29T15:59:08.164528",
     "status": "completed"
    },
    "tags": []
   },
   "outputs": [],
   "source": [
    "TEXT_CHUNK_SIZE = 64"
   ]
  },
  {
   "cell_type": "code",
   "execution_count": 3,
   "metadata": {
    "execution": {
     "iopub.execute_input": "2020-09-29T15:59:08.236123Z",
     "iopub.status.busy": "2020-09-29T15:59:08.235405Z",
     "iopub.status.idle": "2020-09-29T15:59:09.254929Z",
     "shell.execute_reply": "2020-09-29T15:59:09.254159Z"
    },
    "papermill": {
     "duration": 1.043567,
     "end_time": "2020-09-29T15:59:09.255061",
     "exception": false,
     "start_time": "2020-09-29T15:59:08.211494",
     "status": "completed"
    },
    "tags": []
   },
   "outputs": [
    {
     "data": {
      "application/vnd.jupyter.widget-view+json": {
       "model_id": "c952e3b666fb4a4599134e78fc709054",
       "version_major": 2,
       "version_minor": 0
      },
      "text/plain": [
       "HBox(children=(FloatProgress(value=0.0, description='Downloading', max=995526.0, style=ProgressStyle(descripti…"
      ]
     },
     "metadata": {},
     "output_type": "display_data"
    },
    {
     "name": "stdout",
     "output_type": "stream",
     "text": [
      "\n"
     ]
    },
    {
     "data": {
      "text/plain": [
       "('./vocab.txt', './special_tokens_map.json', './added_tokens.json')"
      ]
     },
     "execution_count": 3,
     "metadata": {},
     "output_type": "execute_result"
    }
   ],
   "source": [
    "tokenizer = transformers.DistilBertTokenizer.from_pretrained('distilbert-base-multilingual-cased')\n",
    "tokenizer.save_pretrained('.')"
   ]
  },
  {
   "cell_type": "code",
   "execution_count": 4,
   "metadata": {
    "execution": {
     "iopub.execute_input": "2020-09-29T15:59:09.306529Z",
     "iopub.status.busy": "2020-09-29T15:59:09.305227Z",
     "iopub.status.idle": "2020-09-29T15:59:15.803698Z",
     "shell.execute_reply": "2020-09-29T15:59:15.802961Z"
    },
    "papermill": {
     "duration": 6.527791,
     "end_time": "2020-09-29T15:59:15.803842",
     "exception": false,
     "start_time": "2020-09-29T15:59:09.276051",
     "status": "completed"
    },
    "tags": []
   },
   "outputs": [],
   "source": [
    "file = open('../input/terrorism-data/positive.txt', mode='r')\n",
    "positive = tokenizer.tokenize(file.read())\n",
    "len_positive = len(positive)\n",
    "positive = pd.DataFrame([tokenizer.decode(tokenizer.convert_tokens_to_ids(positive[i : i + TEXT_CHUNK_SIZE])) \n",
    "                         for i in range(0, len_positive, TEXT_CHUNK_SIZE)])\n",
    "positive[1] = 1\n",
    "file.close()"
   ]
  },
  {
   "cell_type": "code",
   "execution_count": 5,
   "metadata": {
    "execution": {
     "iopub.execute_input": "2020-09-29T15:59:15.855189Z",
     "iopub.status.busy": "2020-09-29T15:59:15.854377Z",
     "iopub.status.idle": "2020-09-29T15:59:53.677853Z",
     "shell.execute_reply": "2020-09-29T15:59:53.677146Z"
    },
    "papermill": {
     "duration": 37.852966,
     "end_time": "2020-09-29T15:59:53.678006",
     "exception": false,
     "start_time": "2020-09-29T15:59:15.825040",
     "status": "completed"
    },
    "tags": []
   },
   "outputs": [],
   "source": [
    "file = open('../input/terrorism-data/negative.txt', mode='r')\n",
    "negative = tokenizer.tokenize(file.read())\n",
    "len_negative = len(negative)\n",
    "negative = pd.DataFrame([tokenizer.decode(tokenizer.convert_tokens_to_ids(negative[i : i + TEXT_CHUNK_SIZE])) \n",
    "                         for i in range(0, len_negative, TEXT_CHUNK_SIZE)])\n",
    "negative[1] = 0\n",
    "negative = negative.sample(n=positive.shape[0], random_state=17)\n",
    "file.close()"
   ]
  },
  {
   "cell_type": "code",
   "execution_count": 6,
   "metadata": {
    "execution": {
     "iopub.execute_input": "2020-09-29T15:59:53.732834Z",
     "iopub.status.busy": "2020-09-29T15:59:53.730856Z",
     "iopub.status.idle": "2020-09-29T15:59:53.750652Z",
     "shell.execute_reply": "2020-09-29T15:59:53.749983Z"
    },
    "papermill": {
     "duration": 0.049004,
     "end_time": "2020-09-29T15:59:53.750781",
     "exception": false,
     "start_time": "2020-09-29T15:59:53.701777",
     "status": "completed"
    },
    "tags": []
   },
   "outputs": [
    {
     "data": {
      "text/plain": [
       "1    4116\n",
       "0    4116\n",
       "Name: 1, dtype: int64"
      ]
     },
     "execution_count": 6,
     "metadata": {},
     "output_type": "execute_result"
    }
   ],
   "source": [
    "# random undersampling\n",
    "texts = pd.concat([negative, positive]).sample(frac=1, random_state=17).reset_index(drop=True)\n",
    "texts[1].value_counts()"
   ]
  },
  {
   "cell_type": "code",
   "execution_count": 7,
   "metadata": {
    "execution": {
     "iopub.execute_input": "2020-09-29T15:59:53.807959Z",
     "iopub.status.busy": "2020-09-29T15:59:53.807103Z",
     "iopub.status.idle": "2020-09-29T15:59:53.810854Z",
     "shell.execute_reply": "2020-09-29T15:59:53.810034Z"
    },
    "papermill": {
     "duration": 0.03827,
     "end_time": "2020-09-29T15:59:53.810992",
     "exception": false,
     "start_time": "2020-09-29T15:59:53.772722",
     "status": "completed"
    },
    "tags": []
   },
   "outputs": [],
   "source": [
    "# Делим данные на training, valid, test\n",
    "X = texts[0]\n",
    "y = texts[1]\n",
    "x_train_raw, x_test_raw, y_train, y_test = train_test_split(X,\n",
    "                                                            y,\n",
    "                                                            test_size=0.3,\n",
    "                                                            random_state=17)\n",
    "x_valid_raw, x_test_raw, y_valid, y_test = train_test_split(x_test_raw,\n",
    "                                                            y_test,\n",
    "                                                            test_size=0.33,\n",
    "                                                            random_state=17)"
   ]
  },
  {
   "cell_type": "code",
   "execution_count": 8,
   "metadata": {
    "execution": {
     "iopub.execute_input": "2020-09-29T15:59:53.914837Z",
     "iopub.status.busy": "2020-09-29T15:59:53.869688Z",
     "iopub.status.idle": "2020-09-29T15:59:59.012675Z",
     "shell.execute_reply": "2020-09-29T15:59:59.013220Z"
    },
    "papermill": {
     "duration": 5.180282,
     "end_time": "2020-09-29T15:59:59.013407",
     "exception": false,
     "start_time": "2020-09-29T15:59:53.833125",
     "status": "completed"
    },
    "tags": []
   },
   "outputs": [
    {
     "name": "stdout",
     "output_type": "stream",
     "text": [
      "Running on TPU  grpc://10.0.0.2:8470\n",
      "REPLICAS:  8\n"
     ]
    }
   ],
   "source": [
    "# Detect hardware, return appropriate distribution strategy\n",
    "try:\n",
    "    tpu = tf.distribute.cluster_resolver.TPUClusterResolver()\n",
    "    print('Running on TPU ', tpu.master())\n",
    "except ValueError:\n",
    "    tpu = None\n",
    "\n",
    "if tpu:\n",
    "    tf.config.experimental_connect_to_cluster(tpu)\n",
    "    tf.tpu.experimental.initialize_tpu_system(tpu)\n",
    "    strategy = tf.distribute.experimental.TPUStrategy(tpu)\n",
    "else:\n",
    "    strategy = tf.distribute.get_strategy()\n",
    "\n",
    "print(\"REPLICAS: \", strategy.num_replicas_in_sync)"
   ]
  },
  {
   "cell_type": "code",
   "execution_count": 9,
   "metadata": {
    "execution": {
     "iopub.execute_input": "2020-09-29T15:59:59.068628Z",
     "iopub.status.busy": "2020-09-29T15:59:59.067574Z",
     "iopub.status.idle": "2020-09-29T15:59:59.071496Z",
     "shell.execute_reply": "2020-09-29T15:59:59.070706Z"
    },
    "papermill": {
     "duration": 0.034669,
     "end_time": "2020-09-29T15:59:59.071621",
     "exception": false,
     "start_time": "2020-09-29T15:59:59.036952",
     "status": "completed"
    },
    "tags": []
   },
   "outputs": [],
   "source": [
    "AUTO = tf.data.experimental.AUTOTUNE\n",
    "\n",
    "# hyperparameters\n",
    "EPOCHS = 4\n",
    "BATCH_SIZE = 16 * strategy.num_replicas_in_sync\n",
    "MAX_LEN = 128\n",
    "LEARNING_RATE = 3e-5"
   ]
  },
  {
   "cell_type": "code",
   "execution_count": 10,
   "metadata": {
    "execution": {
     "iopub.execute_input": "2020-09-29T15:59:59.237278Z",
     "iopub.status.busy": "2020-09-29T15:59:59.236128Z",
     "iopub.status.idle": "2020-09-29T15:59:59.240976Z",
     "shell.execute_reply": "2020-09-29T15:59:59.240333Z"
    },
    "papermill": {
     "duration": 0.145887,
     "end_time": "2020-09-29T15:59:59.241109",
     "exception": false,
     "start_time": "2020-09-29T15:59:59.095222",
     "status": "completed"
    },
    "tags": []
   },
   "outputs": [
    {
     "data": {
      "text/plain": [
       "Tokenizer(vocabulary_size=119547, model=BertWordPiece, unk_token=[UNK], sep_token=[SEP], cls_token=[CLS], pad_token=[PAD], mask_token=[MASK], clean_text=True, handle_chinese_chars=True, strip_accents=True, lowercase=False, wordpieces_prefix=##)"
      ]
     },
     "execution_count": 10,
     "metadata": {},
     "output_type": "execute_result"
    }
   ],
   "source": [
    "# Загрузка BertWordPieceTokenizer-а\n",
    "fast_tokenizer = BertWordPieceTokenizer('vocab.txt', lowercase=False)\n",
    "fast_tokenizer"
   ]
  },
  {
   "cell_type": "code",
   "execution_count": 11,
   "metadata": {
    "execution": {
     "iopub.execute_input": "2020-09-29T15:59:59.299444Z",
     "iopub.status.busy": "2020-09-29T15:59:59.298345Z",
     "iopub.status.idle": "2020-09-29T15:59:59.302504Z",
     "shell.execute_reply": "2020-09-29T15:59:59.301648Z"
    },
    "papermill": {
     "duration": 0.0377,
     "end_time": "2020-09-29T15:59:59.302646",
     "exception": false,
     "start_time": "2020-09-29T15:59:59.264946",
     "status": "completed"
    },
    "tags": []
   },
   "outputs": [],
   "source": [
    "def fast_encode(texts, tokenizer, chunk_size=256, maxlen=512):\n",
    "    \"\"\"\n",
    "    Encoder for encoding the text into sequence of integers for BERT Input\n",
    "    \"\"\"\n",
    "    tokenizer.enable_truncation(max_length=maxlen)\n",
    "    tokenizer.enable_padding(max_length=maxlen)\n",
    "    all_ids = []\n",
    "    \n",
    "    for i in tqdm(range(0, len(texts), chunk_size)):\n",
    "        text_chunk = texts[i : i + chunk_size].tolist()\n",
    "        encodings = tokenizer.encode_batch(text_chunk)\n",
    "        all_ids.extend([encoding.ids for encoding in encodings])\n",
    "    \n",
    "    return np.array(all_ids)"
   ]
  },
  {
   "cell_type": "code",
   "execution_count": 12,
   "metadata": {
    "execution": {
     "iopub.execute_input": "2020-09-29T15:59:59.357629Z",
     "iopub.status.busy": "2020-09-29T15:59:59.356779Z",
     "iopub.status.idle": "2020-09-29T16:00:00.419972Z",
     "shell.execute_reply": "2020-09-29T16:00:00.420756Z"
    },
    "papermill": {
     "duration": 1.094205,
     "end_time": "2020-09-29T16:00:00.420935",
     "exception": false,
     "start_time": "2020-09-29T15:59:59.326730",
     "status": "completed"
    },
    "tags": []
   },
   "outputs": [
    {
     "name": "stderr",
     "output_type": "stream",
     "text": [
      "100%|██████████| 23/23 [00:00<00:00, 35.53it/s]\n",
      "100%|██████████| 7/7 [00:00<00:00, 37.86it/s]\n"
     ]
    }
   ],
   "source": [
    "x_train_encoded = fast_encode(x_train_raw, fast_tokenizer, maxlen=MAX_LEN)\n",
    "x_valid_encoded = fast_encode(x_valid_raw, fast_tokenizer, maxlen=MAX_LEN)\n",
    "# x_test_encoded = fast_encode(x_test_raw, fast_tokenizer, maxlen=MAX_LEN)"
   ]
  },
  {
   "cell_type": "code",
   "execution_count": 13,
   "metadata": {
    "execution": {
     "iopub.execute_input": "2020-09-29T16:00:00.505425Z",
     "iopub.status.busy": "2020-09-29T16:00:00.500402Z",
     "iopub.status.idle": "2020-09-29T16:00:00.523716Z",
     "shell.execute_reply": "2020-09-29T16:00:00.522916Z"
    },
    "papermill": {
     "duration": 0.074145,
     "end_time": "2020-09-29T16:00:00.523877",
     "exception": false,
     "start_time": "2020-09-29T16:00:00.449732",
     "status": "completed"
    },
    "tags": []
   },
   "outputs": [],
   "source": [
    "train_dataset = (tf.data.Dataset\n",
    "                   .from_tensor_slices((x_train_encoded, y_train))\n",
    "                   .repeat()\n",
    "                   .shuffle(17)\n",
    "                   .batch(BATCH_SIZE)\n",
    "                   .prefetch(AUTO))\n",
    "\n",
    "valid_dataset = (tf.data.Dataset\n",
    "                   .from_tensor_slices((x_valid_encoded, y_valid))\n",
    "                   .batch(BATCH_SIZE)\n",
    "                   .cache()\n",
    "                   .prefetch(AUTO))\n",
    "\n",
    "# test_dataset = (tf.data.Dataset\n",
    "#                   .from_tensor_slices(x_test_encoded)\n",
    "#                   .batch(BATCH_SIZE))"
   ]
  },
  {
   "cell_type": "code",
   "execution_count": 14,
   "metadata": {
    "execution": {
     "iopub.execute_input": "2020-09-29T16:00:00.592837Z",
     "iopub.status.busy": "2020-09-29T16:00:00.592057Z",
     "iopub.status.idle": "2020-09-29T16:00:00.595848Z",
     "shell.execute_reply": "2020-09-29T16:00:00.595140Z"
    },
    "papermill": {
     "duration": 0.043214,
     "end_time": "2020-09-29T16:00:00.595977",
     "exception": false,
     "start_time": "2020-09-29T16:00:00.552763",
     "status": "completed"
    },
    "tags": []
   },
   "outputs": [],
   "source": [
    "# F1-score\n",
    "def f1_score(y_true, y_pred):\n",
    "    true_positives = K.sum(K.round(K.clip(y_true * y_pred, 0, 1)))\n",
    "    possible_positives = K.sum(K.round(K.clip(y_true, 0, 1)))\n",
    "    predicted_positives = K.sum(K.round(K.clip(y_pred, 0, 1)))\n",
    "    precision = true_positives / (predicted_positives + K.epsilon())\n",
    "    recall = true_positives / (possible_positives + K.epsilon())\n",
    "    return 2 * precision * recall / (precision + recall + K.epsilon())"
   ]
  },
  {
   "cell_type": "code",
   "execution_count": 15,
   "metadata": {
    "execution": {
     "iopub.execute_input": "2020-09-29T16:00:00.664718Z",
     "iopub.status.busy": "2020-09-29T16:00:00.663505Z",
     "iopub.status.idle": "2020-09-29T16:00:00.666987Z",
     "shell.execute_reply": "2020-09-29T16:00:00.666143Z"
    },
    "papermill": {
     "duration": 0.041544,
     "end_time": "2020-09-29T16:00:00.667124",
     "exception": false,
     "start_time": "2020-09-29T16:00:00.625580",
     "status": "completed"
    },
    "tags": []
   },
   "outputs": [],
   "source": [
    "def build_terrorism_model(transformer, max_len=512):\n",
    "    \"\"\"\n",
    "    Function for training the BERT model\n",
    "    \"\"\"\n",
    "    input_word_ids = Input(shape=(max_len,), dtype=tf.int32, name=\"input_word_ids\")\n",
    "    sequence_output = transformer(input_word_ids)[0]\n",
    "    cls_token = sequence_output[:, 0, :]\n",
    "    out = Dense(1, activation='sigmoid')(cls_token)\n",
    "    \n",
    "    model = Model(inputs=input_word_ids, outputs=out)\n",
    "    model.compile(Adam(lr=LEARNING_RATE), loss='binary_crossentropy')\n",
    "    \n",
    "    return model"
   ]
  },
  {
   "cell_type": "code",
   "execution_count": 16,
   "metadata": {
    "execution": {
     "iopub.execute_input": "2020-09-29T16:00:00.734475Z",
     "iopub.status.busy": "2020-09-29T16:00:00.732667Z",
     "iopub.status.idle": "2020-09-29T16:01:14.283091Z",
     "shell.execute_reply": "2020-09-29T16:01:14.283958Z"
    },
    "papermill": {
     "duration": 73.587425,
     "end_time": "2020-09-29T16:01:14.284186",
     "exception": false,
     "start_time": "2020-09-29T16:00:00.696761",
     "status": "completed"
    },
    "tags": []
   },
   "outputs": [
    {
     "data": {
      "application/vnd.jupyter.widget-view+json": {
       "model_id": "e089f4f2c07040c2acf7594df169a1fc",
       "version_major": 2,
       "version_minor": 0
      },
      "text/plain": [
       "HBox(children=(FloatProgress(value=0.0, description='Downloading', max=466.0, style=ProgressStyle(description_…"
      ]
     },
     "metadata": {},
     "output_type": "display_data"
    },
    {
     "name": "stdout",
     "output_type": "stream",
     "text": [
      "\n"
     ]
    },
    {
     "data": {
      "application/vnd.jupyter.widget-view+json": {
       "model_id": "b68a98f7f28a4aff8bf7c56ac2a49248",
       "version_major": 2,
       "version_minor": 0
      },
      "text/plain": [
       "HBox(children=(FloatProgress(value=0.0, description='Downloading', max=910749124.0, style=ProgressStyle(descri…"
      ]
     },
     "metadata": {},
     "output_type": "display_data"
    },
    {
     "name": "stdout",
     "output_type": "stream",
     "text": [
      "\n",
      "Model: \"model\"\n",
      "_________________________________________________________________\n",
      "Layer (type)                 Output Shape              Param #   \n",
      "=================================================================\n",
      "input_word_ids (InputLayer)  [(None, 128)]             0         \n",
      "_________________________________________________________________\n",
      "tf_distil_bert_model (TFDist ((None, 128, 768),)       134734080 \n",
      "_________________________________________________________________\n",
      "tf_op_layer_strided_slice (T [(None, 768)]             0         \n",
      "_________________________________________________________________\n",
      "dense (Dense)                (None, 1)                 769       \n",
      "=================================================================\n",
      "Total params: 134,734,849\n",
      "Trainable params: 134,734,849\n",
      "Non-trainable params: 0\n",
      "_________________________________________________________________\n",
      "CPU times: user 36.8 s, sys: 11.5 s, total: 48.3 s\n",
      "Wall time: 1min 13s\n"
     ]
    }
   ],
   "source": [
    "%%time\n",
    "with strategy.scope():\n",
    "    transformer_layer = (transformers.TFDistilBertModel\n",
    "                                     .from_pretrained('distilbert-base-multilingual-cased'))\n",
    "    terrorism_model = build_terrorism_model(transformer_layer, max_len=MAX_LEN)\n",
    "terrorism_model.summary()"
   ]
  },
  {
   "cell_type": "code",
   "execution_count": 17,
   "metadata": {
    "execution": {
     "iopub.execute_input": "2020-09-29T16:01:14.364361Z",
     "iopub.status.busy": "2020-09-29T16:01:14.363107Z",
     "iopub.status.idle": "2020-09-29T16:02:16.324009Z",
     "shell.execute_reply": "2020-09-29T16:02:16.323251Z"
    },
    "papermill": {
     "duration": 62.004805,
     "end_time": "2020-09-29T16:02:16.324185",
     "exception": false,
     "start_time": "2020-09-29T16:01:14.319380",
     "status": "completed"
    },
    "tags": []
   },
   "outputs": [
    {
     "name": "stdout",
     "output_type": "stream",
     "text": [
      "Epoch 1/4\n",
      "45/45 [==============================] - 14s 312ms/step - loss: 0.4404 - val_loss: 0.1935\n",
      "Epoch 2/4\n",
      "45/45 [==============================] - 4s 90ms/step - loss: 0.1845 - val_loss: 0.2096\n",
      "Epoch 3/4\n",
      "45/45 [==============================] - 4s 93ms/step - loss: 0.1282 - val_loss: 0.1614\n",
      "Epoch 4/4\n",
      "45/45 [==============================] - 4s 92ms/step - loss: 0.0950 - val_loss: 0.1656\n"
     ]
    }
   ],
   "source": [
    "n_steps = x_train_encoded.shape[0] // BATCH_SIZE\n",
    "\n",
    "train_history = terrorism_model.fit(train_dataset,\n",
    "                                    steps_per_epoch=n_steps,\n",
    "                                    validation_data=valid_dataset,\n",
    "                                    epochs=EPOCHS)"
   ]
  },
  {
   "cell_type": "code",
   "execution_count": 18,
   "metadata": {
    "execution": {
     "iopub.execute_input": "2020-09-29T16:02:16.544143Z",
     "iopub.status.busy": "2020-09-29T16:02:16.543303Z",
     "iopub.status.idle": "2020-09-29T16:02:16.547337Z",
     "shell.execute_reply": "2020-09-29T16:02:16.546543Z"
    },
    "papermill": {
     "duration": 0.114296,
     "end_time": "2020-09-29T16:02:16.547479",
     "exception": false,
     "start_time": "2020-09-29T16:02:16.433183",
     "status": "completed"
    },
    "tags": []
   },
   "outputs": [],
   "source": [
    "# y_pred = model.predict(test_dataset)\n",
    "# tf.math.confusion_matrix(y_test.tolist(),\n",
    "#                          y_pred.round().tolist(),\n",
    "#                          num_classes=2)"
   ]
  },
  {
   "cell_type": "code",
   "execution_count": 19,
   "metadata": {
    "execution": {
     "iopub.execute_input": "2020-09-29T16:02:16.771941Z",
     "iopub.status.busy": "2020-09-29T16:02:16.771143Z",
     "iopub.status.idle": "2020-09-29T16:02:30.772040Z",
     "shell.execute_reply": "2020-09-29T16:02:30.771198Z"
    },
    "papermill": {
     "duration": 14.118767,
     "end_time": "2020-09-29T16:02:30.772183",
     "exception": false,
     "start_time": "2020-09-29T16:02:16.653416",
     "status": "completed"
    },
    "tags": []
   },
   "outputs": [
    {
     "name": "stdout",
     "output_type": "stream",
     "text": [
      "Model: \"model_1\"\n",
      "_________________________________________________________________\n",
      "Layer (type)                 Output Shape              Param #   \n",
      "=================================================================\n",
      "input_word_ids (InputLayer)  [(None, 189)]             0         \n",
      "_________________________________________________________________\n",
      "tf_distil_bert_model_1 (TFDi ((None, 189, 768),)       134734080 \n",
      "_________________________________________________________________\n",
      "tf_op_layer_strided_slice_1  [(None, 768)]             0         \n",
      "_________________________________________________________________\n",
      "dense_1 (Dense)              (None, 1)                 769       \n",
      "=================================================================\n",
      "Total params: 134,734,849\n",
      "Trainable params: 134,734,849\n",
      "Non-trainable params: 0\n",
      "_________________________________________________________________\n"
     ]
    }
   ],
   "source": [
    "def build_sentiment_model(transformer, max_len=512):\n",
    "    \"\"\"\n",
    "    Function for training the BERT model\n",
    "    \"\"\"\n",
    "    input_word_ids = Input(shape=(max_len,), dtype=tf.int32, name=\"input_word_ids\")\n",
    "    sequence_output = transformer(input_word_ids)[0]\n",
    "    cls_token = sequence_output[:, 0, :]\n",
    "    out = Dense(1, activation='sigmoid')(cls_token)\n",
    "    \n",
    "    model = Model(inputs=input_word_ids, outputs=out)\n",
    "    model.compile(Adam(lr=3e-5), loss='binary_crossentropy')\n",
    "    return model\n",
    "\n",
    "\n",
    "with strategy.scope():\n",
    "    transformer_layer = (transformers.TFDistilBertModel\n",
    "                                     .from_pretrained('distilbert-base-multilingual-cased'))\n",
    "    sentiment_model = build_sentiment_model(transformer_layer, max_len=189)\n",
    "sentiment_model.summary()"
   ]
  },
  {
   "cell_type": "code",
   "execution_count": 20,
   "metadata": {
    "execution": {
     "iopub.execute_input": "2020-09-29T16:02:31.385410Z",
     "iopub.status.busy": "2020-09-29T16:02:31.033472Z",
     "iopub.status.idle": "2020-09-29T16:02:38.993915Z",
     "shell.execute_reply": "2020-09-29T16:02:38.992752Z"
    },
    "papermill": {
     "duration": 8.11358,
     "end_time": "2020-09-29T16:02:38.994087",
     "exception": false,
     "start_time": "2020-09-29T16:02:30.880507",
     "status": "completed"
    },
    "tags": []
   },
   "outputs": [],
   "source": [
    "sentiment_model.load_weights('../input/bert-weights/model_weights.h5')"
   ]
  },
  {
   "cell_type": "code",
   "execution_count": 21,
   "metadata": {
    "execution": {
     "iopub.execute_input": "2020-09-29T16:02:39.250259Z",
     "iopub.status.busy": "2020-09-29T16:02:39.249302Z",
     "iopub.status.idle": "2020-09-29T16:02:39.252877Z",
     "shell.execute_reply": "2020-09-29T16:02:39.252094Z"
    },
    "papermill": {
     "duration": 0.127832,
     "end_time": "2020-09-29T16:02:39.253010",
     "exception": false,
     "start_time": "2020-09-29T16:02:39.125178",
     "status": "completed"
    },
    "tags": []
   },
   "outputs": [],
   "source": [
    "def classify(x_test_raw):\n",
    "    x_test_encoded = fast_encode(x_test_raw, fast_tokenizer, maxlen=MAX_LEN)\n",
    "    test_dataset = (tf.data.Dataset\n",
    "                      .from_tensor_slices(x_test_encoded)\n",
    "                      .batch(BATCH_SIZE))\n",
    "    terrorism_predictions = terrorism_model.predict(test_dataset).round()\n",
    "    \n",
    "    print(classification_report(y_test, terrorism_predictions, target_names=['positive', 'negative']))\n",
    "    print(tf.math.confusion_matrix(y_test.tolist(),\n",
    "                                   terrorism_predictions.round().tolist(),\n",
    "                                   num_classes=2))\n",
    "   \n",
    "    sentiment_classes = pd.Series(sentiment_model.predict(test_dataset).round().ravel())\n",
    "    classifications = pd.concat([pd.Series(terrorism_predictions.ravel()), sentiment_classes], axis=1)\n",
    "    classifications[0] = classifications[0].map({0: 'not_terrorism',\n",
    "                                                 1: 'terrorism'})\n",
    "    classifications[1] = classifications[1].map({0: 'negative',\n",
    "                                                 1: 'positive'})\n",
    "    classifications.to_csv('./classifications.csv', sep=';', header=None)"
   ]
  },
  {
   "cell_type": "code",
   "execution_count": 22,
   "metadata": {
    "execution": {
     "iopub.execute_input": "2020-09-29T16:02:39.474642Z",
     "iopub.status.busy": "2020-09-29T16:02:39.473828Z",
     "iopub.status.idle": "2020-09-29T16:02:57.858530Z",
     "shell.execute_reply": "2020-09-29T16:02:57.857801Z"
    },
    "papermill": {
     "duration": 18.497396,
     "end_time": "2020-09-29T16:02:57.858675",
     "exception": false,
     "start_time": "2020-09-29T16:02:39.361279",
     "status": "completed"
    },
    "tags": []
   },
   "outputs": [
    {
     "name": "stderr",
     "output_type": "stream",
     "text": [
      "100%|██████████| 4/4 [00:00<00:00, 43.96it/s]\n"
     ]
    },
    {
     "name": "stdout",
     "output_type": "stream",
     "text": [
      "              precision    recall  f1-score   support\n",
      "\n",
      "    positive       0.91      0.97      0.94       415\n",
      "    negative       0.97      0.90      0.93       401\n",
      "\n",
      "    accuracy                           0.94       816\n",
      "   macro avg       0.94      0.94      0.94       816\n",
      "weighted avg       0.94      0.94      0.94       816\n",
      "\n",
      "tf.Tensor(\n",
      "[[403  12]\n",
      " [ 40 361]], shape=(2, 2), dtype=int32)\n"
     ]
    }
   ],
   "source": [
    "classify(x_test_raw)"
   ]
  },
  {
   "cell_type": "code",
   "execution_count": 23,
   "metadata": {
    "execution": {
     "iopub.execute_input": "2020-09-29T16:02:58.082281Z",
     "iopub.status.busy": "2020-09-29T16:02:58.081160Z",
     "iopub.status.idle": "2020-09-29T16:02:58.085841Z",
     "shell.execute_reply": "2020-09-29T16:02:58.085217Z"
    },
    "papermill": {
     "duration": 0.118567,
     "end_time": "2020-09-29T16:02:58.085986",
     "exception": false,
     "start_time": "2020-09-29T16:02:57.967419",
     "status": "completed"
    },
    "tags": []
   },
   "outputs": [
    {
     "data": {
      "text/html": [
       "<a href='classifications.csv' target='_blank'>classifications.csv</a><br>"
      ],
      "text/plain": [
       "/kaggle/working/classifications.csv"
      ]
     },
     "execution_count": 23,
     "metadata": {},
     "output_type": "execute_result"
    }
   ],
   "source": [
    "from IPython.display import FileLink\n",
    "FileLink(r'classifications.csv')"
   ]
  }
 ],
 "metadata": {
  "kernelspec": {
   "display_name": "Python 3",
   "language": "python",
   "name": "python3"
  },
  "language_info": {
   "codemirror_mode": {
    "name": "ipython",
    "version": 3
   },
   "file_extension": ".py",
   "mimetype": "text/x-python",
   "name": "python",
   "nbconvert_exporter": "python",
   "pygments_lexer": "ipython3",
   "version": "3.7.6"
  },
  "papermill": {
   "duration": 244.90508,
   "end_time": "2020-09-29T16:02:58.304060",
   "environment_variables": {},
   "exception": null,
   "input_path": "__notebook__.ipynb",
   "output_path": "__notebook__.ipynb",
   "parameters": {},
   "start_time": "2020-09-29T15:58:53.398980",
   "version": "2.1.0"
  },
  "widgets": {
   "application/vnd.jupyter.widget-state+json": {
    "state": {
     "014f55b286ab4c5f98d554d7cd7143f6": {
      "model_module": "@jupyter-widgets/controls",
      "model_module_version": "1.5.0",
      "model_name": "DescriptionStyleModel",
      "state": {
       "_model_module": "@jupyter-widgets/controls",
       "_model_module_version": "1.5.0",
       "_model_name": "DescriptionStyleModel",
       "_view_count": null,
       "_view_module": "@jupyter-widgets/base",
       "_view_module_version": "1.2.0",
       "_view_name": "StyleView",
       "description_width": ""
      }
     },
     "056dc68b8daf469985bab9b8f81ccfc9": {
      "model_module": "@jupyter-widgets/base",
      "model_module_version": "1.2.0",
      "model_name": "LayoutModel",
      "state": {
       "_model_module": "@jupyter-widgets/base",
       "_model_module_version": "1.2.0",
       "_model_name": "LayoutModel",
       "_view_count": null,
       "_view_module": "@jupyter-widgets/base",
       "_view_module_version": "1.2.0",
       "_view_name": "LayoutView",
       "align_content": null,
       "align_items": null,
       "align_self": null,
       "border": null,
       "bottom": null,
       "display": null,
       "flex": null,
       "flex_flow": null,
       "grid_area": null,
       "grid_auto_columns": null,
       "grid_auto_flow": null,
       "grid_auto_rows": null,
       "grid_column": null,
       "grid_gap": null,
       "grid_row": null,
       "grid_template_areas": null,
       "grid_template_columns": null,
       "grid_template_rows": null,
       "height": null,
       "justify_content": null,
       "justify_items": null,
       "left": null,
       "margin": null,
       "max_height": null,
       "max_width": null,
       "min_height": null,
       "min_width": null,
       "object_fit": null,
       "object_position": null,
       "order": null,
       "overflow": null,
       "overflow_x": null,
       "overflow_y": null,
       "padding": null,
       "right": null,
       "top": null,
       "visibility": null,
       "width": null
      }
     },
     "06321b6c051741d4941af60506bc8aa2": {
      "model_module": "@jupyter-widgets/controls",
      "model_module_version": "1.5.0",
      "model_name": "ProgressStyleModel",
      "state": {
       "_model_module": "@jupyter-widgets/controls",
       "_model_module_version": "1.5.0",
       "_model_name": "ProgressStyleModel",
       "_view_count": null,
       "_view_module": "@jupyter-widgets/base",
       "_view_module_version": "1.2.0",
       "_view_name": "StyleView",
       "bar_color": null,
       "description_width": "initial"
      }
     },
     "0a27bdbe5fbe4b4bb7f33a684500cecd": {
      "model_module": "@jupyter-widgets/controls",
      "model_module_version": "1.5.0",
      "model_name": "HTMLModel",
      "state": {
       "_dom_classes": [],
       "_model_module": "@jupyter-widgets/controls",
       "_model_module_version": "1.5.0",
       "_model_name": "HTMLModel",
       "_view_count": null,
       "_view_module": "@jupyter-widgets/controls",
       "_view_module_version": "1.5.0",
       "_view_name": "HTMLView",
       "description": "",
       "description_tooltip": null,
       "layout": "IPY_MODEL_056dc68b8daf469985bab9b8f81ccfc9",
       "placeholder": "​",
       "style": "IPY_MODEL_fc28eb6eea4748aaba50c23627801548",
       "value": " 466/466 [00:54&lt;00:00, 8.49B/s]"
      }
     },
     "0c3f6e184d5a43828d3d917ee4a94887": {
      "model_module": "@jupyter-widgets/controls",
      "model_module_version": "1.5.0",
      "model_name": "DescriptionStyleModel",
      "state": {
       "_model_module": "@jupyter-widgets/controls",
       "_model_module_version": "1.5.0",
       "_model_name": "DescriptionStyleModel",
       "_view_count": null,
       "_view_module": "@jupyter-widgets/base",
       "_view_module_version": "1.2.0",
       "_view_name": "StyleView",
       "description_width": ""
      }
     },
     "13abb13d0c4f4254860503624523e637": {
      "model_module": "@jupyter-widgets/base",
      "model_module_version": "1.2.0",
      "model_name": "LayoutModel",
      "state": {
       "_model_module": "@jupyter-widgets/base",
       "_model_module_version": "1.2.0",
       "_model_name": "LayoutModel",
       "_view_count": null,
       "_view_module": "@jupyter-widgets/base",
       "_view_module_version": "1.2.0",
       "_view_name": "LayoutView",
       "align_content": null,
       "align_items": null,
       "align_self": null,
       "border": null,
       "bottom": null,
       "display": null,
       "flex": null,
       "flex_flow": null,
       "grid_area": null,
       "grid_auto_columns": null,
       "grid_auto_flow": null,
       "grid_auto_rows": null,
       "grid_column": null,
       "grid_gap": null,
       "grid_row": null,
       "grid_template_areas": null,
       "grid_template_columns": null,
       "grid_template_rows": null,
       "height": null,
       "justify_content": null,
       "justify_items": null,
       "left": null,
       "margin": null,
       "max_height": null,
       "max_width": null,
       "min_height": null,
       "min_width": null,
       "object_fit": null,
       "object_position": null,
       "order": null,
       "overflow": null,
       "overflow_x": null,
       "overflow_y": null,
       "padding": null,
       "right": null,
       "top": null,
       "visibility": null,
       "width": null
      }
     },
     "15184363460e4d74a85e4ef873efa323": {
      "model_module": "@jupyter-widgets/base",
      "model_module_version": "1.2.0",
      "model_name": "LayoutModel",
      "state": {
       "_model_module": "@jupyter-widgets/base",
       "_model_module_version": "1.2.0",
       "_model_name": "LayoutModel",
       "_view_count": null,
       "_view_module": "@jupyter-widgets/base",
       "_view_module_version": "1.2.0",
       "_view_name": "LayoutView",
       "align_content": null,
       "align_items": null,
       "align_self": null,
       "border": null,
       "bottom": null,
       "display": null,
       "flex": null,
       "flex_flow": null,
       "grid_area": null,
       "grid_auto_columns": null,
       "grid_auto_flow": null,
       "grid_auto_rows": null,
       "grid_column": null,
       "grid_gap": null,
       "grid_row": null,
       "grid_template_areas": null,
       "grid_template_columns": null,
       "grid_template_rows": null,
       "height": null,
       "justify_content": null,
       "justify_items": null,
       "left": null,
       "margin": null,
       "max_height": null,
       "max_width": null,
       "min_height": null,
       "min_width": null,
       "object_fit": null,
       "object_position": null,
       "order": null,
       "overflow": null,
       "overflow_x": null,
       "overflow_y": null,
       "padding": null,
       "right": null,
       "top": null,
       "visibility": null,
       "width": null
      }
     },
     "1b292866a98b418b97dcdb1cbe5a3cd0": {
      "model_module": "@jupyter-widgets/base",
      "model_module_version": "1.2.0",
      "model_name": "LayoutModel",
      "state": {
       "_model_module": "@jupyter-widgets/base",
       "_model_module_version": "1.2.0",
       "_model_name": "LayoutModel",
       "_view_count": null,
       "_view_module": "@jupyter-widgets/base",
       "_view_module_version": "1.2.0",
       "_view_name": "LayoutView",
       "align_content": null,
       "align_items": null,
       "align_self": null,
       "border": null,
       "bottom": null,
       "display": null,
       "flex": null,
       "flex_flow": null,
       "grid_area": null,
       "grid_auto_columns": null,
       "grid_auto_flow": null,
       "grid_auto_rows": null,
       "grid_column": null,
       "grid_gap": null,
       "grid_row": null,
       "grid_template_areas": null,
       "grid_template_columns": null,
       "grid_template_rows": null,
       "height": null,
       "justify_content": null,
       "justify_items": null,
       "left": null,
       "margin": null,
       "max_height": null,
       "max_width": null,
       "min_height": null,
       "min_width": null,
       "object_fit": null,
       "object_position": null,
       "order": null,
       "overflow": null,
       "overflow_x": null,
       "overflow_y": null,
       "padding": null,
       "right": null,
       "top": null,
       "visibility": null,
       "width": null
      }
     },
     "1e64e8d2ae8d4f1794d1711469bcc7e5": {
      "model_module": "@jupyter-widgets/base",
      "model_module_version": "1.2.0",
      "model_name": "LayoutModel",
      "state": {
       "_model_module": "@jupyter-widgets/base",
       "_model_module_version": "1.2.0",
       "_model_name": "LayoutModel",
       "_view_count": null,
       "_view_module": "@jupyter-widgets/base",
       "_view_module_version": "1.2.0",
       "_view_name": "LayoutView",
       "align_content": null,
       "align_items": null,
       "align_self": null,
       "border": null,
       "bottom": null,
       "display": null,
       "flex": null,
       "flex_flow": null,
       "grid_area": null,
       "grid_auto_columns": null,
       "grid_auto_flow": null,
       "grid_auto_rows": null,
       "grid_column": null,
       "grid_gap": null,
       "grid_row": null,
       "grid_template_areas": null,
       "grid_template_columns": null,
       "grid_template_rows": null,
       "height": null,
       "justify_content": null,
       "justify_items": null,
       "left": null,
       "margin": null,
       "max_height": null,
       "max_width": null,
       "min_height": null,
       "min_width": null,
       "object_fit": null,
       "object_position": null,
       "order": null,
       "overflow": null,
       "overflow_x": null,
       "overflow_y": null,
       "padding": null,
       "right": null,
       "top": null,
       "visibility": null,
       "width": null
      }
     },
     "4bc22b14589c4e8abcb5ab46461a5dcc": {
      "model_module": "@jupyter-widgets/base",
      "model_module_version": "1.2.0",
      "model_name": "LayoutModel",
      "state": {
       "_model_module": "@jupyter-widgets/base",
       "_model_module_version": "1.2.0",
       "_model_name": "LayoutModel",
       "_view_count": null,
       "_view_module": "@jupyter-widgets/base",
       "_view_module_version": "1.2.0",
       "_view_name": "LayoutView",
       "align_content": null,
       "align_items": null,
       "align_self": null,
       "border": null,
       "bottom": null,
       "display": null,
       "flex": null,
       "flex_flow": null,
       "grid_area": null,
       "grid_auto_columns": null,
       "grid_auto_flow": null,
       "grid_auto_rows": null,
       "grid_column": null,
       "grid_gap": null,
       "grid_row": null,
       "grid_template_areas": null,
       "grid_template_columns": null,
       "grid_template_rows": null,
       "height": null,
       "justify_content": null,
       "justify_items": null,
       "left": null,
       "margin": null,
       "max_height": null,
       "max_width": null,
       "min_height": null,
       "min_width": null,
       "object_fit": null,
       "object_position": null,
       "order": null,
       "overflow": null,
       "overflow_x": null,
       "overflow_y": null,
       "padding": null,
       "right": null,
       "top": null,
       "visibility": null,
       "width": null
      }
     },
     "4e6895683db441ad9be6d8385cc2da1c": {
      "model_module": "@jupyter-widgets/controls",
      "model_module_version": "1.5.0",
      "model_name": "FloatProgressModel",
      "state": {
       "_dom_classes": [],
       "_model_module": "@jupyter-widgets/controls",
       "_model_module_version": "1.5.0",
       "_model_name": "FloatProgressModel",
       "_view_count": null,
       "_view_module": "@jupyter-widgets/controls",
       "_view_module_version": "1.5.0",
       "_view_name": "ProgressView",
       "bar_style": "success",
       "description": "Downloading: 100%",
       "description_tooltip": null,
       "layout": "IPY_MODEL_d317d711ab234d5f9de01ed1eaeb1228",
       "max": 995526.0,
       "min": 0.0,
       "orientation": "horizontal",
       "style": "IPY_MODEL_a9053326f7264f718bb3dfd900bbab83",
       "value": 995526.0
      }
     },
     "54bfa67b5829481fa7cb11f8ff73b29d": {
      "model_module": "@jupyter-widgets/controls",
      "model_module_version": "1.5.0",
      "model_name": "HTMLModel",
      "state": {
       "_dom_classes": [],
       "_model_module": "@jupyter-widgets/controls",
       "_model_module_version": "1.5.0",
       "_model_name": "HTMLModel",
       "_view_count": null,
       "_view_module": "@jupyter-widgets/controls",
       "_view_module_version": "1.5.0",
       "_view_name": "HTMLView",
       "description": "",
       "description_tooltip": null,
       "layout": "IPY_MODEL_1e64e8d2ae8d4f1794d1711469bcc7e5",
       "placeholder": "​",
       "style": "IPY_MODEL_0c3f6e184d5a43828d3d917ee4a94887",
       "value": " 996k/996k [00:00&lt;00:00, 2.94MB/s]"
      }
     },
     "85e0c8fdffa547498d3283700c38f40e": {
      "model_module": "@jupyter-widgets/controls",
      "model_module_version": "1.5.0",
      "model_name": "HTMLModel",
      "state": {
       "_dom_classes": [],
       "_model_module": "@jupyter-widgets/controls",
       "_model_module_version": "1.5.0",
       "_model_name": "HTMLModel",
       "_view_count": null,
       "_view_module": "@jupyter-widgets/controls",
       "_view_module_version": "1.5.0",
       "_view_name": "HTMLView",
       "description": "",
       "description_tooltip": null,
       "layout": "IPY_MODEL_c5b115cfbe3443a48b51dd74fc34c314",
       "placeholder": "​",
       "style": "IPY_MODEL_014f55b286ab4c5f98d554d7cd7143f6",
       "value": " 911M/911M [00:54&lt;00:00, 16.8MB/s]"
      }
     },
     "911c932853b4416d998606e7d1405f30": {
      "model_module": "@jupyter-widgets/controls",
      "model_module_version": "1.5.0",
      "model_name": "FloatProgressModel",
      "state": {
       "_dom_classes": [],
       "_model_module": "@jupyter-widgets/controls",
       "_model_module_version": "1.5.0",
       "_model_name": "FloatProgressModel",
       "_view_count": null,
       "_view_module": "@jupyter-widgets/controls",
       "_view_module_version": "1.5.0",
       "_view_name": "ProgressView",
       "bar_style": "success",
       "description": "Downloading: 100%",
       "description_tooltip": null,
       "layout": "IPY_MODEL_1b292866a98b418b97dcdb1cbe5a3cd0",
       "max": 910749124.0,
       "min": 0.0,
       "orientation": "horizontal",
       "style": "IPY_MODEL_c3b32c6c03fc4ea1889a1eb7203ba2b4",
       "value": 910749124.0
      }
     },
     "a9053326f7264f718bb3dfd900bbab83": {
      "model_module": "@jupyter-widgets/controls",
      "model_module_version": "1.5.0",
      "model_name": "ProgressStyleModel",
      "state": {
       "_model_module": "@jupyter-widgets/controls",
       "_model_module_version": "1.5.0",
       "_model_name": "ProgressStyleModel",
       "_view_count": null,
       "_view_module": "@jupyter-widgets/base",
       "_view_module_version": "1.2.0",
       "_view_name": "StyleView",
       "bar_color": null,
       "description_width": "initial"
      }
     },
     "b68a98f7f28a4aff8bf7c56ac2a49248": {
      "model_module": "@jupyter-widgets/controls",
      "model_module_version": "1.5.0",
      "model_name": "HBoxModel",
      "state": {
       "_dom_classes": [],
       "_model_module": "@jupyter-widgets/controls",
       "_model_module_version": "1.5.0",
       "_model_name": "HBoxModel",
       "_view_count": null,
       "_view_module": "@jupyter-widgets/controls",
       "_view_module_version": "1.5.0",
       "_view_name": "HBoxView",
       "box_style": "",
       "children": [
        "IPY_MODEL_911c932853b4416d998606e7d1405f30",
        "IPY_MODEL_85e0c8fdffa547498d3283700c38f40e"
       ],
       "layout": "IPY_MODEL_15184363460e4d74a85e4ef873efa323"
      }
     },
     "b80ae0b424934135867cbeb4b0dac4fb": {
      "model_module": "@jupyter-widgets/controls",
      "model_module_version": "1.5.0",
      "model_name": "FloatProgressModel",
      "state": {
       "_dom_classes": [],
       "_model_module": "@jupyter-widgets/controls",
       "_model_module_version": "1.5.0",
       "_model_name": "FloatProgressModel",
       "_view_count": null,
       "_view_module": "@jupyter-widgets/controls",
       "_view_module_version": "1.5.0",
       "_view_name": "ProgressView",
       "bar_style": "success",
       "description": "Downloading: 100%",
       "description_tooltip": null,
       "layout": "IPY_MODEL_13abb13d0c4f4254860503624523e637",
       "max": 466.0,
       "min": 0.0,
       "orientation": "horizontal",
       "style": "IPY_MODEL_06321b6c051741d4941af60506bc8aa2",
       "value": 466.0
      }
     },
     "c3b32c6c03fc4ea1889a1eb7203ba2b4": {
      "model_module": "@jupyter-widgets/controls",
      "model_module_version": "1.5.0",
      "model_name": "ProgressStyleModel",
      "state": {
       "_model_module": "@jupyter-widgets/controls",
       "_model_module_version": "1.5.0",
       "_model_name": "ProgressStyleModel",
       "_view_count": null,
       "_view_module": "@jupyter-widgets/base",
       "_view_module_version": "1.2.0",
       "_view_name": "StyleView",
       "bar_color": null,
       "description_width": "initial"
      }
     },
     "c5b115cfbe3443a48b51dd74fc34c314": {
      "model_module": "@jupyter-widgets/base",
      "model_module_version": "1.2.0",
      "model_name": "LayoutModel",
      "state": {
       "_model_module": "@jupyter-widgets/base",
       "_model_module_version": "1.2.0",
       "_model_name": "LayoutModel",
       "_view_count": null,
       "_view_module": "@jupyter-widgets/base",
       "_view_module_version": "1.2.0",
       "_view_name": "LayoutView",
       "align_content": null,
       "align_items": null,
       "align_self": null,
       "border": null,
       "bottom": null,
       "display": null,
       "flex": null,
       "flex_flow": null,
       "grid_area": null,
       "grid_auto_columns": null,
       "grid_auto_flow": null,
       "grid_auto_rows": null,
       "grid_column": null,
       "grid_gap": null,
       "grid_row": null,
       "grid_template_areas": null,
       "grid_template_columns": null,
       "grid_template_rows": null,
       "height": null,
       "justify_content": null,
       "justify_items": null,
       "left": null,
       "margin": null,
       "max_height": null,
       "max_width": null,
       "min_height": null,
       "min_width": null,
       "object_fit": null,
       "object_position": null,
       "order": null,
       "overflow": null,
       "overflow_x": null,
       "overflow_y": null,
       "padding": null,
       "right": null,
       "top": null,
       "visibility": null,
       "width": null
      }
     },
     "c952e3b666fb4a4599134e78fc709054": {
      "model_module": "@jupyter-widgets/controls",
      "model_module_version": "1.5.0",
      "model_name": "HBoxModel",
      "state": {
       "_dom_classes": [],
       "_model_module": "@jupyter-widgets/controls",
       "_model_module_version": "1.5.0",
       "_model_name": "HBoxModel",
       "_view_count": null,
       "_view_module": "@jupyter-widgets/controls",
       "_view_module_version": "1.5.0",
       "_view_name": "HBoxView",
       "box_style": "",
       "children": [
        "IPY_MODEL_4e6895683db441ad9be6d8385cc2da1c",
        "IPY_MODEL_54bfa67b5829481fa7cb11f8ff73b29d"
       ],
       "layout": "IPY_MODEL_4bc22b14589c4e8abcb5ab46461a5dcc"
      }
     },
     "d317d711ab234d5f9de01ed1eaeb1228": {
      "model_module": "@jupyter-widgets/base",
      "model_module_version": "1.2.0",
      "model_name": "LayoutModel",
      "state": {
       "_model_module": "@jupyter-widgets/base",
       "_model_module_version": "1.2.0",
       "_model_name": "LayoutModel",
       "_view_count": null,
       "_view_module": "@jupyter-widgets/base",
       "_view_module_version": "1.2.0",
       "_view_name": "LayoutView",
       "align_content": null,
       "align_items": null,
       "align_self": null,
       "border": null,
       "bottom": null,
       "display": null,
       "flex": null,
       "flex_flow": null,
       "grid_area": null,
       "grid_auto_columns": null,
       "grid_auto_flow": null,
       "grid_auto_rows": null,
       "grid_column": null,
       "grid_gap": null,
       "grid_row": null,
       "grid_template_areas": null,
       "grid_template_columns": null,
       "grid_template_rows": null,
       "height": null,
       "justify_content": null,
       "justify_items": null,
       "left": null,
       "margin": null,
       "max_height": null,
       "max_width": null,
       "min_height": null,
       "min_width": null,
       "object_fit": null,
       "object_position": null,
       "order": null,
       "overflow": null,
       "overflow_x": null,
       "overflow_y": null,
       "padding": null,
       "right": null,
       "top": null,
       "visibility": null,
       "width": null
      }
     },
     "e089f4f2c07040c2acf7594df169a1fc": {
      "model_module": "@jupyter-widgets/controls",
      "model_module_version": "1.5.0",
      "model_name": "HBoxModel",
      "state": {
       "_dom_classes": [],
       "_model_module": "@jupyter-widgets/controls",
       "_model_module_version": "1.5.0",
       "_model_name": "HBoxModel",
       "_view_count": null,
       "_view_module": "@jupyter-widgets/controls",
       "_view_module_version": "1.5.0",
       "_view_name": "HBoxView",
       "box_style": "",
       "children": [
        "IPY_MODEL_b80ae0b424934135867cbeb4b0dac4fb",
        "IPY_MODEL_0a27bdbe5fbe4b4bb7f33a684500cecd"
       ],
       "layout": "IPY_MODEL_ffd3b7e1cb5640c9ad16df248d899e5e"
      }
     },
     "fc28eb6eea4748aaba50c23627801548": {
      "model_module": "@jupyter-widgets/controls",
      "model_module_version": "1.5.0",
      "model_name": "DescriptionStyleModel",
      "state": {
       "_model_module": "@jupyter-widgets/controls",
       "_model_module_version": "1.5.0",
       "_model_name": "DescriptionStyleModel",
       "_view_count": null,
       "_view_module": "@jupyter-widgets/base",
       "_view_module_version": "1.2.0",
       "_view_name": "StyleView",
       "description_width": ""
      }
     },
     "ffd3b7e1cb5640c9ad16df248d899e5e": {
      "model_module": "@jupyter-widgets/base",
      "model_module_version": "1.2.0",
      "model_name": "LayoutModel",
      "state": {
       "_model_module": "@jupyter-widgets/base",
       "_model_module_version": "1.2.0",
       "_model_name": "LayoutModel",
       "_view_count": null,
       "_view_module": "@jupyter-widgets/base",
       "_view_module_version": "1.2.0",
       "_view_name": "LayoutView",
       "align_content": null,
       "align_items": null,
       "align_self": null,
       "border": null,
       "bottom": null,
       "display": null,
       "flex": null,
       "flex_flow": null,
       "grid_area": null,
       "grid_auto_columns": null,
       "grid_auto_flow": null,
       "grid_auto_rows": null,
       "grid_column": null,
       "grid_gap": null,
       "grid_row": null,
       "grid_template_areas": null,
       "grid_template_columns": null,
       "grid_template_rows": null,
       "height": null,
       "justify_content": null,
       "justify_items": null,
       "left": null,
       "margin": null,
       "max_height": null,
       "max_width": null,
       "min_height": null,
       "min_width": null,
       "object_fit": null,
       "object_position": null,
       "order": null,
       "overflow": null,
       "overflow_x": null,
       "overflow_y": null,
       "padding": null,
       "right": null,
       "top": null,
       "visibility": null,
       "width": null
      }
     }
    },
    "version_major": 2,
    "version_minor": 0
   }
  }
 },
 "nbformat": 4,
 "nbformat_minor": 4
}
