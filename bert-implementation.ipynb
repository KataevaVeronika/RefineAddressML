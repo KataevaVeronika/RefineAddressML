{
 "cells": [
  {
   "cell_type": "code",
   "execution_count": 1,
   "metadata": {
    "execution": {
     "iopub.execute_input": "2020-09-29T15:04:57.496930Z",
     "iopub.status.busy": "2020-09-29T15:04:57.496295Z",
     "iopub.status.idle": "2020-09-29T15:05:06.412164Z",
     "shell.execute_reply": "2020-09-29T15:05:06.411422Z"
    },
    "papermill": {
     "duration": 8.939473,
     "end_time": "2020-09-29T15:05:06.412285",
     "exception": false,
     "start_time": "2020-09-29T15:04:57.472812",
     "status": "completed"
    },
    "tags": []
   },
   "outputs": [
    {
     "name": "stderr",
     "output_type": "stream",
     "text": [
      "\u001b[34m\u001b[1mwandb\u001b[0m: \u001b[33mWARNING\u001b[0m W&B installed but not logged in.  Run `wandb login` or set the WANDB_API_KEY env variable.\n"
     ]
    }
   ],
   "source": [
    "import keras.backend as K\n",
    "import numpy as np\n",
    "import pandas as pd\n",
    "import tensorflow as tf\n",
    "import transformers\n",
    "import os\n",
    "from IPython.display import FileLink\n",
    "from tensorflow.keras.metrics import Precision, Recall\n",
    "from tensorflow.keras.layers import Dense, Input\n",
    "from tensorflow.keras.optimizers import Adam\n",
    "from tensorflow.keras.models import Model\n",
    "from tensorflow.keras.callbacks import ModelCheckpoint\n",
    "from tokenizers import BertWordPieceTokenizer\n",
    "from sklearn.model_selection import train_test_split\n",
    "from tqdm import tqdm\n",
    "from sklearn.metrics import classification_report"
   ]
  },
  {
   "cell_type": "markdown",
   "metadata": {
    "papermill": {
     "duration": 0.014428,
     "end_time": "2020-09-29T15:05:06.443354",
     "exception": false,
     "start_time": "2020-09-29T15:05:06.428926",
     "status": "completed"
    },
    "tags": []
   },
   "source": [
    "**Загрузка данных**"
   ]
  },
  {
   "cell_type": "code",
   "execution_count": 2,
   "metadata": {
    "execution": {
     "iopub.execute_input": "2020-09-29T15:05:06.483947Z",
     "iopub.status.busy": "2020-09-29T15:05:06.483270Z",
     "iopub.status.idle": "2020-09-29T15:05:07.548608Z",
     "shell.execute_reply": "2020-09-29T15:05:07.547945Z"
    },
    "papermill": {
     "duration": 1.089877,
     "end_time": "2020-09-29T15:05:07.548725",
     "exception": false,
     "start_time": "2020-09-29T15:05:06.458848",
     "status": "completed"
    },
    "tags": []
   },
   "outputs": [],
   "source": [
    "negative = pd.read_csv('../input/sentiments/negative.csv', sep=';', header=None)\n",
    "# заменяем -1 на 0 в отрицательно окрашенных сообщениях\n",
    "negative[4] = 0\n",
    "positive = pd.read_csv('../input/sentiments/positive.csv', sep=';', header=None)\n",
    "sentiments = pd.concat([negative, positive]).sample(frac=1).reset_index(drop=True)"
   ]
  },
  {
   "cell_type": "code",
   "execution_count": 3,
   "metadata": {
    "execution": {
     "iopub.execute_input": "2020-09-29T15:05:07.584613Z",
     "iopub.status.busy": "2020-09-29T15:05:07.583975Z",
     "iopub.status.idle": "2020-09-29T15:05:07.681675Z",
     "shell.execute_reply": "2020-09-29T15:05:07.681031Z"
    },
    "papermill": {
     "duration": 0.1175,
     "end_time": "2020-09-29T15:05:07.681784",
     "exception": false,
     "start_time": "2020-09-29T15:05:07.564284",
     "status": "completed"
    },
    "tags": []
   },
   "outputs": [
    {
     "data": {
      "text/plain": [
       "True"
      ]
     },
     "execution_count": 3,
     "metadata": {},
     "output_type": "execute_result"
    }
   ],
   "source": [
    "# Проверяем все ли данные строкового типа в столбце твитов\n",
    "any(sentiments[3].map(type) == str)"
   ]
  },
  {
   "cell_type": "code",
   "execution_count": 4,
   "metadata": {
    "execution": {
     "iopub.execute_input": "2020-09-29T15:05:07.760600Z",
     "iopub.status.busy": "2020-09-29T15:05:07.759969Z",
     "iopub.status.idle": "2020-09-29T15:05:07.951015Z",
     "shell.execute_reply": "2020-09-29T15:05:07.950244Z"
    },
    "papermill": {
     "duration": 0.250892,
     "end_time": "2020-09-29T15:05:07.951161",
     "exception": false,
     "start_time": "2020-09-29T15:05:07.700269",
     "status": "completed"
    },
    "tags": []
   },
   "outputs": [
    {
     "name": "stdout",
     "output_type": "stream",
     "text": [
      "189\n"
     ]
    }
   ],
   "source": [
    "# Находим максимальную длину твита\n",
    "max_str_len = sentiments[3].str.len().max()\n",
    "print(max_str_len)"
   ]
  },
  {
   "cell_type": "code",
   "execution_count": 5,
   "metadata": {
    "execution": {
     "iopub.execute_input": "2020-09-29T15:05:07.991957Z",
     "iopub.status.busy": "2020-09-29T15:05:07.991331Z",
     "iopub.status.idle": "2020-09-29T15:05:08.486655Z",
     "shell.execute_reply": "2020-09-29T15:05:08.486120Z"
    },
    "papermill": {
     "duration": 0.518121,
     "end_time": "2020-09-29T15:05:08.486780",
     "exception": false,
     "start_time": "2020-09-29T15:05:07.968659",
     "status": "completed"
    },
    "tags": []
   },
   "outputs": [
    {
     "data": {
      "text/plain": [
       "False"
      ]
     },
     "execution_count": 5,
     "metadata": {},
     "output_type": "execute_result"
    }
   ],
   "source": [
    "# Проверка на дупликаты\n",
    "sentiments.duplicated().any()"
   ]
  },
  {
   "cell_type": "code",
   "execution_count": 6,
   "metadata": {
    "execution": {
     "iopub.execute_input": "2020-09-29T15:05:08.563813Z",
     "iopub.status.busy": "2020-09-29T15:05:08.562955Z",
     "iopub.status.idle": "2020-09-29T15:05:08.567646Z",
     "shell.execute_reply": "2020-09-29T15:05:08.568138Z"
    },
    "papermill": {
     "duration": 0.064949,
     "end_time": "2020-09-29T15:05:08.568263",
     "exception": false,
     "start_time": "2020-09-29T15:05:08.503314",
     "status": "completed"
    },
    "tags": []
   },
   "outputs": [
    {
     "name": "stdout",
     "output_type": "stream",
     "text": [
      "False\n",
      "False\n"
     ]
    }
   ],
   "source": [
    "# Проверка на missing values\n",
    "print(sentiments[3].isnull().any())\n",
    "print(sentiments[4].isnull().any())"
   ]
  },
  {
   "cell_type": "code",
   "execution_count": 7,
   "metadata": {
    "execution": {
     "iopub.execute_input": "2020-09-29T15:05:08.613730Z",
     "iopub.status.busy": "2020-09-29T15:05:08.613074Z",
     "iopub.status.idle": "2020-09-29T15:05:08.701823Z",
     "shell.execute_reply": "2020-09-29T15:05:08.701321Z"
    },
    "papermill": {
     "duration": 0.117042,
     "end_time": "2020-09-29T15:05:08.701963",
     "exception": false,
     "start_time": "2020-09-29T15:05:08.584921",
     "status": "completed"
    },
    "tags": []
   },
   "outputs": [],
   "source": [
    "# Делим данные на training, valid, test\n",
    "X = sentiments.drop(4, axis=1)\n",
    "y = sentiments[4]\n",
    "X_train, X_test, y_train, y_test = train_test_split(X, y, test_size=0.3, random_state=17)\n",
    "X_valid, X_test, y_valid, y_test = train_test_split(X_test, y_test, test_size=0.33, random_state=17)"
   ]
  },
  {
   "cell_type": "markdown",
   "metadata": {
    "papermill": {
     "duration": 0.016421,
     "end_time": "2020-09-29T15:05:08.735251",
     "exception": false,
     "start_time": "2020-09-29T15:05:08.718830",
     "status": "completed"
    },
    "tags": []
   },
   "source": [
    "**Активация TPU**\n",
    "\n",
    "On the settings box, bottom-right, select TPU v3-8 and accept the conditions. Execute the next cell, you should see an output message like Running on TPU: grpc://10.0.0.2:8470.\n",
    "\n",
    "The code:\n",
    "\n",
    "1. Initialize the TPU\n",
    "2. Instantiate a distribution strategy, this will permit to run the model in parallel on multiple TPU replicas\n",
    "3. Return the TPU object containing the distribution strategy settings"
   ]
  },
  {
   "cell_type": "code",
   "execution_count": 8,
   "metadata": {
    "execution": {
     "iopub.execute_input": "2020-09-29T15:05:08.876792Z",
     "iopub.status.busy": "2020-09-29T15:05:08.875732Z",
     "iopub.status.idle": "2020-09-29T15:05:13.882670Z",
     "shell.execute_reply": "2020-09-29T15:05:13.881840Z"
    },
    "papermill": {
     "duration": 5.130149,
     "end_time": "2020-09-29T15:05:13.882841",
     "exception": false,
     "start_time": "2020-09-29T15:05:08.752692",
     "status": "completed"
    },
    "tags": []
   },
   "outputs": [
    {
     "name": "stdout",
     "output_type": "stream",
     "text": [
      "Running on TPU  grpc://10.0.0.2:8470\n",
      "REPLICAS:  8\n"
     ]
    }
   ],
   "source": [
    "# Detect hardware, return appropriate distribution strategy\n",
    "try:\n",
    "    tpu = tf.distribute.cluster_resolver.TPUClusterResolver()\n",
    "    print('Running on TPU ', tpu.master())\n",
    "except ValueError:\n",
    "    tpu = None\n",
    "\n",
    "if tpu:\n",
    "    tf.config.experimental_connect_to_cluster(tpu)\n",
    "    tf.tpu.experimental.initialize_tpu_system(tpu)\n",
    "    strategy = tf.distribute.experimental.TPUStrategy(tpu)\n",
    "else:\n",
    "    strategy = tf.distribute.get_strategy()\n",
    "\n",
    "print(\"REPLICAS: \", strategy.num_replicas_in_sync)"
   ]
  },
  {
   "cell_type": "code",
   "execution_count": 9,
   "metadata": {
    "execution": {
     "iopub.execute_input": "2020-09-29T15:05:13.925982Z",
     "iopub.status.busy": "2020-09-29T15:05:13.925072Z",
     "iopub.status.idle": "2020-09-29T15:05:13.928185Z",
     "shell.execute_reply": "2020-09-29T15:05:13.927511Z"
    },
    "papermill": {
     "duration": 0.026362,
     "end_time": "2020-09-29T15:05:13.928311",
     "exception": false,
     "start_time": "2020-09-29T15:05:13.901949",
     "status": "completed"
    },
    "tags": []
   },
   "outputs": [],
   "source": [
    "AUTO = tf.data.experimental.AUTOTUNE\n",
    "\n",
    "# hyperparameters\n",
    "EPOCHS = 2\n",
    "BATCH_SIZE = 16 * strategy.num_replicas_in_sync\n",
    "MAX_LEN = max_str_len\n",
    "LEARNING_RATE = 3e-5"
   ]
  },
  {
   "cell_type": "code",
   "execution_count": 10,
   "metadata": {
    "execution": {
     "iopub.execute_input": "2020-09-29T15:05:13.972570Z",
     "iopub.status.busy": "2020-09-29T15:05:13.971592Z",
     "iopub.status.idle": "2020-09-29T15:05:16.104632Z",
     "shell.execute_reply": "2020-09-29T15:05:16.104103Z"
    },
    "papermill": {
     "duration": 2.15773,
     "end_time": "2020-09-29T15:05:16.104730",
     "exception": false,
     "start_time": "2020-09-29T15:05:13.947000",
     "status": "completed"
    },
    "tags": []
   },
   "outputs": [
    {
     "data": {
      "application/vnd.jupyter.widget-view+json": {
       "model_id": "d8514233e9a24578a700e76a5aa4398a",
       "version_major": 2,
       "version_minor": 0
      },
      "text/plain": [
       "HBox(children=(FloatProgress(value=0.0, description='Downloading', max=995526.0, style=ProgressStyle(descripti…"
      ]
     },
     "metadata": {},
     "output_type": "display_data"
    },
    {
     "name": "stdout",
     "output_type": "stream",
     "text": [
      "\n"
     ]
    },
    {
     "data": {
      "text/plain": [
       "Tokenizer(vocabulary_size=119547, model=BertWordPiece, unk_token=[UNK], sep_token=[SEP], cls_token=[CLS], pad_token=[PAD], mask_token=[MASK], clean_text=True, handle_chinese_chars=True, strip_accents=True, lowercase=False, wordpieces_prefix=##)"
      ]
     },
     "execution_count": 10,
     "metadata": {},
     "output_type": "execute_result"
    }
   ],
   "source": [
    "# Загрузка BertWordPieceTokenizer-а\n",
    "tokenizer = transformers.DistilBertTokenizer.from_pretrained('distilbert-base-multilingual-cased')\n",
    "tokenizer.save_pretrained('.')\n",
    "fast_tokenizer = BertWordPieceTokenizer('vocab.txt', lowercase=False)\n",
    "fast_tokenizer"
   ]
  },
  {
   "cell_type": "code",
   "execution_count": 11,
   "metadata": {
    "execution": {
     "iopub.execute_input": "2020-09-29T15:05:16.151223Z",
     "iopub.status.busy": "2020-09-29T15:05:16.150609Z",
     "iopub.status.idle": "2020-09-29T15:05:16.153673Z",
     "shell.execute_reply": "2020-09-29T15:05:16.153125Z"
    },
    "papermill": {
     "duration": 0.030183,
     "end_time": "2020-09-29T15:05:16.153774",
     "exception": false,
     "start_time": "2020-09-29T15:05:16.123591",
     "status": "completed"
    },
    "tags": []
   },
   "outputs": [],
   "source": [
    "def fast_encode(texts, tokenizer, chunk_size=256, maxlen=512):\n",
    "    \"\"\"\n",
    "    Encoder for encoding the text into sequence of integers for BERT Input\n",
    "    \"\"\"\n",
    "    tokenizer.enable_truncation(max_length=maxlen)\n",
    "    tokenizer.enable_padding(max_length=maxlen)\n",
    "    all_ids = []\n",
    "    \n",
    "    for i in tqdm(range(0, len(texts), chunk_size)):\n",
    "        text_chunk = texts[i : i + chunk_size].tolist()\n",
    "        encs = tokenizer.encode_batch(text_chunk)\n",
    "        all_ids.extend([enc.ids for enc in encs])\n",
    "    \n",
    "    return np.array(all_ids)"
   ]
  },
  {
   "cell_type": "code",
   "execution_count": 12,
   "metadata": {
    "execution": {
     "iopub.execute_input": "2020-09-29T15:05:16.198583Z",
     "iopub.status.busy": "2020-09-29T15:05:16.197969Z",
     "iopub.status.idle": "2020-09-29T15:05:38.608237Z",
     "shell.execute_reply": "2020-09-29T15:05:38.608718Z"
    },
    "papermill": {
     "duration": 22.436117,
     "end_time": "2020-09-29T15:05:38.608854",
     "exception": false,
     "start_time": "2020-09-29T15:05:16.172737",
     "status": "completed"
    },
    "tags": []
   },
   "outputs": [
    {
     "name": "stderr",
     "output_type": "stream",
     "text": [
      "100%|██████████| 621/621 [00:09<00:00, 62.76it/s]\n",
      "100%|██████████| 179/179 [00:02<00:00, 70.31it/s]\n",
      "100%|██████████| 88/88 [00:01<00:00, 70.22it/s]\n"
     ]
    }
   ],
   "source": [
    "x_train = fast_encode(X_train[3], fast_tokenizer, maxlen=MAX_LEN)\n",
    "x_valid = fast_encode(X_valid[3], fast_tokenizer, maxlen=MAX_LEN)\n",
    "x_test = fast_encode(X_test[3], fast_tokenizer, maxlen=MAX_LEN)"
   ]
  },
  {
   "cell_type": "code",
   "execution_count": 13,
   "metadata": {
    "execution": {
     "iopub.execute_input": "2020-09-29T15:05:39.245152Z",
     "iopub.status.busy": "2020-09-29T15:05:39.244240Z",
     "iopub.status.idle": "2020-09-29T15:05:39.990528Z",
     "shell.execute_reply": "2020-09-29T15:05:39.989956Z"
    },
    "papermill": {
     "duration": 1.323749,
     "end_time": "2020-09-29T15:05:39.990633",
     "exception": false,
     "start_time": "2020-09-29T15:05:38.666884",
     "status": "completed"
    },
    "tags": []
   },
   "outputs": [],
   "source": [
    "train_dataset = (tf.data.Dataset\n",
    "                   .from_tensor_slices((x_train, y_train))\n",
    "                   .repeat()\n",
    "                   .shuffle(17)\n",
    "                   .batch(BATCH_SIZE)\n",
    "                   .prefetch(AUTO))\n",
    "\n",
    "valid_dataset = (tf.data.Dataset\n",
    "                   .from_tensor_slices((x_valid, y_valid))\n",
    "                   .batch(BATCH_SIZE)\n",
    "                   .cache()\n",
    "                   .prefetch(AUTO))\n",
    "\n",
    "test_dataset = (tf.data.Dataset\n",
    "                  .from_tensor_slices(x_test)\n",
    "                  .batch(BATCH_SIZE))"
   ]
  },
  {
   "cell_type": "code",
   "execution_count": 14,
   "metadata": {
    "execution": {
     "iopub.execute_input": "2020-09-29T15:05:40.120141Z",
     "iopub.status.busy": "2020-09-29T15:05:40.119550Z",
     "iopub.status.idle": "2020-09-29T15:05:40.122484Z",
     "shell.execute_reply": "2020-09-29T15:05:40.122008Z"
    },
    "papermill": {
     "duration": 0.070575,
     "end_time": "2020-09-29T15:05:40.122610",
     "exception": false,
     "start_time": "2020-09-29T15:05:40.052035",
     "status": "completed"
    },
    "tags": []
   },
   "outputs": [],
   "source": [
    "# # F1-score\n",
    "# def f1_score(y_true, y_pred):\n",
    "#     true_positives = K.sum(K.round(K.clip(y_true * y_pred, 0, 1)))\n",
    "#     possible_positives = K.sum(K.round(K.clip(y_true, 0, 1)))\n",
    "#     predicted_positives = K.sum(K.round(K.clip(y_pred, 0, 1)))\n",
    "#     precision = true_positives / (predicted_positives + K.epsilon())\n",
    "#     recall = true_positives / (possible_positives + K.epsilon())\n",
    "#     return 2 * precision * recall / (precision + recall + K.epsilon())"
   ]
  },
  {
   "cell_type": "code",
   "execution_count": 15,
   "metadata": {
    "execution": {
     "iopub.execute_input": "2020-09-29T15:05:40.246280Z",
     "iopub.status.busy": "2020-09-29T15:05:40.245431Z",
     "iopub.status.idle": "2020-09-29T15:05:40.248425Z",
     "shell.execute_reply": "2020-09-29T15:05:40.247823Z"
    },
    "papermill": {
     "duration": 0.068427,
     "end_time": "2020-09-29T15:05:40.248546",
     "exception": false,
     "start_time": "2020-09-29T15:05:40.180119",
     "status": "completed"
    },
    "tags": []
   },
   "outputs": [],
   "source": [
    "def build_model(transformer, max_len=512):\n",
    "    \"\"\"\n",
    "    Function for training the BERT model\n",
    "    \"\"\"\n",
    "    input_word_ids = Input(shape=(max_len,), dtype=tf.int32, name=\"input_word_ids\")\n",
    "    sequence_output = transformer(input_word_ids)[0]\n",
    "    cls_token = sequence_output[:, 0, :]\n",
    "    out = Dense(1, activation='sigmoid')(cls_token)\n",
    "    \n",
    "    model = Model(inputs=input_word_ids, outputs=out)\n",
    "    model.compile(Adam(lr=LEARNING_RATE), loss='binary_crossentropy') #, metrics=['accuracy',\n",
    "#                                                                                Precision(),\n",
    "#                                                                                Recall(),\n",
    "#                                                                                f1_score])\n",
    "    \n",
    "    return model"
   ]
  },
  {
   "cell_type": "markdown",
   "metadata": {
    "papermill": {
     "duration": 0.059301,
     "end_time": "2020-09-29T15:05:40.367834",
     "exception": false,
     "start_time": "2020-09-29T15:05:40.308533",
     "status": "completed"
    },
    "tags": []
   },
   "source": [
    "**Обучение модели**"
   ]
  },
  {
   "cell_type": "code",
   "execution_count": 16,
   "metadata": {
    "execution": {
     "iopub.execute_input": "2020-09-29T15:05:40.495809Z",
     "iopub.status.busy": "2020-09-29T15:05:40.495192Z",
     "iopub.status.idle": "2020-09-29T15:06:45.495586Z",
     "shell.execute_reply": "2020-09-29T15:06:45.496121Z"
    },
    "papermill": {
     "duration": 65.067567,
     "end_time": "2020-09-29T15:06:45.496266",
     "exception": false,
     "start_time": "2020-09-29T15:05:40.428699",
     "status": "completed"
    },
    "tags": []
   },
   "outputs": [
    {
     "data": {
      "application/vnd.jupyter.widget-view+json": {
       "model_id": "af8554d32d564e0196f190196de97153",
       "version_major": 2,
       "version_minor": 0
      },
      "text/plain": [
       "HBox(children=(FloatProgress(value=0.0, description='Downloading', max=466.0, style=ProgressStyle(description_…"
      ]
     },
     "metadata": {},
     "output_type": "display_data"
    },
    {
     "name": "stdout",
     "output_type": "stream",
     "text": [
      "\n"
     ]
    },
    {
     "data": {
      "application/vnd.jupyter.widget-view+json": {
       "model_id": "43c5ab6c9b864d0c816d5311f95f1c11",
       "version_major": 2,
       "version_minor": 0
      },
      "text/plain": [
       "HBox(children=(FloatProgress(value=0.0, description='Downloading', max=910749124.0, style=ProgressStyle(descri…"
      ]
     },
     "metadata": {},
     "output_type": "display_data"
    },
    {
     "name": "stdout",
     "output_type": "stream",
     "text": [
      "\n",
      "Model: \"model\"\n",
      "_________________________________________________________________\n",
      "Layer (type)                 Output Shape              Param #   \n",
      "=================================================================\n",
      "input_word_ids (InputLayer)  [(None, 189)]             0         \n",
      "_________________________________________________________________\n",
      "tf_distil_bert_model (TFDist ((None, 189, 768),)       134734080 \n",
      "_________________________________________________________________\n",
      "tf_op_layer_strided_slice (T [(None, 768)]             0         \n",
      "_________________________________________________________________\n",
      "dense (Dense)                (None, 1)                 769       \n",
      "=================================================================\n",
      "Total params: 134,734,849\n",
      "Trainable params: 134,734,849\n",
      "Non-trainable params: 0\n",
      "_________________________________________________________________\n",
      "CPU times: user 29.9 s, sys: 10.1 s, total: 40 s\n",
      "Wall time: 1min 4s\n"
     ]
    }
   ],
   "source": [
    "%%time\n",
    "with strategy.scope():\n",
    "    transformer_layer = (transformers.TFDistilBertModel\n",
    "                                     .from_pretrained('distilbert-base-multilingual-cased'))\n",
    "    model = build_model(transformer_layer, max_len=MAX_LEN)\n",
    "model.summary()"
   ]
  },
  {
   "cell_type": "code",
   "execution_count": 17,
   "metadata": {
    "execution": {
     "iopub.execute_input": "2020-09-29T15:06:45.651372Z",
     "iopub.status.busy": "2020-09-29T15:06:45.650808Z",
     "iopub.status.idle": "2020-09-29T15:11:30.474559Z",
     "shell.execute_reply": "2020-09-29T15:11:30.473700Z"
    },
    "papermill": {
     "duration": 284.906745,
     "end_time": "2020-09-29T15:11:30.474698",
     "exception": false,
     "start_time": "2020-09-29T15:06:45.567953",
     "status": "completed"
    },
    "tags": []
   },
   "outputs": [
    {
     "name": "stdout",
     "output_type": "stream",
     "text": [
      "Epoch 1/2\n",
      "1240/1240 [==============================] - 131s 105ms/step - loss: 0.0080 - val_loss: 0.0012\n",
      "Epoch 2/2\n",
      "1240/1240 [==============================] - 122s 99ms/step - loss: 9.0573e-04 - val_loss: 3.8889e-04\n"
     ]
    }
   ],
   "source": [
    "n_steps = x_train.shape[0] // BATCH_SIZE\n",
    "\n",
    "train_history = model.fit(train_dataset,\n",
    "                          steps_per_epoch=n_steps,\n",
    "                          validation_data=valid_dataset,\n",
    "                          epochs=EPOCHS)"
   ]
  },
  {
   "cell_type": "markdown",
   "metadata": {
    "papermill": {
     "duration": 0.820858,
     "end_time": "2020-09-29T15:11:32.139065",
     "exception": false,
     "start_time": "2020-09-29T15:11:31.318207",
     "status": "completed"
    },
    "tags": []
   },
   "source": [
    "**Оценка модели на тестовых данных**"
   ]
  },
  {
   "cell_type": "code",
   "execution_count": 18,
   "metadata": {
    "execution": {
     "iopub.execute_input": "2020-09-29T15:11:33.763568Z",
     "iopub.status.busy": "2020-09-29T15:11:33.762983Z",
     "iopub.status.idle": "2020-09-29T15:11:48.803520Z",
     "shell.execute_reply": "2020-09-29T15:11:48.802577Z"
    },
    "papermill": {
     "duration": 15.855981,
     "end_time": "2020-09-29T15:11:48.803679",
     "exception": false,
     "start_time": "2020-09-29T15:11:32.947698",
     "status": "completed"
    },
    "tags": []
   },
   "outputs": [
    {
     "name": "stdout",
     "output_type": "stream",
     "text": [
      "              precision    recall  f1-score   support\n",
      "\n",
      "    positive       1.00      1.00      1.00     11115\n",
      "    negative       1.00      1.00      1.00     11342\n",
      "\n",
      "    accuracy                           1.00     22457\n",
      "   macro avg       1.00      1.00      1.00     22457\n",
      "weighted avg       1.00      1.00      1.00     22457\n",
      "\n"
     ]
    }
   ],
   "source": [
    "y_pred = model.predict(test_dataset)\n",
    "print(classification_report(y_test, y_pred.round(), target_names=['positive', 'negative']))"
   ]
  },
  {
   "cell_type": "code",
   "execution_count": 19,
   "metadata": {
    "execution": {
     "iopub.execute_input": "2020-09-29T15:11:50.565012Z",
     "iopub.status.busy": "2020-09-29T15:11:50.559881Z",
     "iopub.status.idle": "2020-09-29T15:11:50.587249Z",
     "shell.execute_reply": "2020-09-29T15:11:50.587745Z"
    },
    "papermill": {
     "duration": 0.902268,
     "end_time": "2020-09-29T15:11:50.587893",
     "exception": false,
     "start_time": "2020-09-29T15:11:49.685625",
     "status": "completed"
    },
    "tags": []
   },
   "outputs": [
    {
     "data": {
      "text/plain": [
       "<tf.Tensor: shape=(2, 2), dtype=int32, numpy=\n",
       "array([[11111,     4],\n",
       "       [    1, 11341]], dtype=int32)>"
      ]
     },
     "execution_count": 19,
     "metadata": {},
     "output_type": "execute_result"
    }
   ],
   "source": [
    "tf.math.confusion_matrix(y_test.tolist(),\n",
    "                         y_pred.round().tolist(),\n",
    "                         num_classes=2)"
   ]
  },
  {
   "cell_type": "code",
   "execution_count": 20,
   "metadata": {
    "execution": {
     "iopub.execute_input": "2020-09-29T15:11:52.302697Z",
     "iopub.status.busy": "2020-09-29T15:11:52.302102Z",
     "iopub.status.idle": "2020-09-29T15:11:54.100803Z",
     "shell.execute_reply": "2020-09-29T15:11:54.100085Z"
    },
    "papermill": {
     "duration": 2.648442,
     "end_time": "2020-09-29T15:11:54.100920",
     "exception": false,
     "start_time": "2020-09-29T15:11:51.452478",
     "status": "completed"
    },
    "tags": []
   },
   "outputs": [],
   "source": [
    "model.save_weights('./model_weights.h5')"
   ]
  },
  {
   "cell_type": "code",
   "execution_count": 21,
   "metadata": {
    "execution": {
     "iopub.execute_input": "2020-09-29T15:11:55.779529Z",
     "iopub.status.busy": "2020-09-29T15:11:55.778565Z",
     "iopub.status.idle": "2020-09-29T15:11:55.782366Z",
     "shell.execute_reply": "2020-09-29T15:11:55.783105Z"
    },
    "papermill": {
     "duration": 0.819917,
     "end_time": "2020-09-29T15:11:55.783311",
     "exception": false,
     "start_time": "2020-09-29T15:11:54.963394",
     "status": "completed"
    },
    "tags": []
   },
   "outputs": [
    {
     "data": {
      "text/html": [
       "<a href='model_weights.h5' target='_blank'>model_weights.h5</a><br>"
      ],
      "text/plain": [
       "/kaggle/working/model_weights.h5"
      ]
     },
     "execution_count": 21,
     "metadata": {},
     "output_type": "execute_result"
    }
   ],
   "source": [
    "os.chdir(r'./')\n",
    "FileLink(r'model_weights.h5')"
   ]
  }
 ],
 "metadata": {
  "kernelspec": {
   "display_name": "Python 3",
   "language": "python",
   "name": "python3"
  },
  "language_info": {
   "codemirror_mode": {
    "name": "ipython",
    "version": 3
   },
   "file_extension": ".py",
   "mimetype": "text/x-python",
   "name": "python",
   "nbconvert_exporter": "python",
   "pygments_lexer": "ipython3",
   "version": "3.7.6"
  },
  "papermill": {
   "duration": 423.510955,
   "end_time": "2020-09-29T15:11:56.704169",
   "environment_variables": {},
   "exception": null,
   "input_path": "__notebook__.ipynb",
   "output_path": "__notebook__.ipynb",
   "parameters": {},
   "start_time": "2020-09-29T15:04:53.193214",
   "version": "2.1.0"
  },
  "widgets": {
   "application/vnd.jupyter.widget-state+json": {
    "state": {
     "155e181a48194579a937cb3fb12b9a83": {
      "model_module": "@jupyter-widgets/base",
      "model_module_version": "1.2.0",
      "model_name": "LayoutModel",
      "state": {
       "_model_module": "@jupyter-widgets/base",
       "_model_module_version": "1.2.0",
       "_model_name": "LayoutModel",
       "_view_count": null,
       "_view_module": "@jupyter-widgets/base",
       "_view_module_version": "1.2.0",
       "_view_name": "LayoutView",
       "align_content": null,
       "align_items": null,
       "align_self": null,
       "border": null,
       "bottom": null,
       "display": null,
       "flex": null,
       "flex_flow": null,
       "grid_area": null,
       "grid_auto_columns": null,
       "grid_auto_flow": null,
       "grid_auto_rows": null,
       "grid_column": null,
       "grid_gap": null,
       "grid_row": null,
       "grid_template_areas": null,
       "grid_template_columns": null,
       "grid_template_rows": null,
       "height": null,
       "justify_content": null,
       "justify_items": null,
       "left": null,
       "margin": null,
       "max_height": null,
       "max_width": null,
       "min_height": null,
       "min_width": null,
       "object_fit": null,
       "object_position": null,
       "order": null,
       "overflow": null,
       "overflow_x": null,
       "overflow_y": null,
       "padding": null,
       "right": null,
       "top": null,
       "visibility": null,
       "width": null
      }
     },
     "17998d4d3796451d8185cc796c677820": {
      "model_module": "@jupyter-widgets/base",
      "model_module_version": "1.2.0",
      "model_name": "LayoutModel",
      "state": {
       "_model_module": "@jupyter-widgets/base",
       "_model_module_version": "1.2.0",
       "_model_name": "LayoutModel",
       "_view_count": null,
       "_view_module": "@jupyter-widgets/base",
       "_view_module_version": "1.2.0",
       "_view_name": "LayoutView",
       "align_content": null,
       "align_items": null,
       "align_self": null,
       "border": null,
       "bottom": null,
       "display": null,
       "flex": null,
       "flex_flow": null,
       "grid_area": null,
       "grid_auto_columns": null,
       "grid_auto_flow": null,
       "grid_auto_rows": null,
       "grid_column": null,
       "grid_gap": null,
       "grid_row": null,
       "grid_template_areas": null,
       "grid_template_columns": null,
       "grid_template_rows": null,
       "height": null,
       "justify_content": null,
       "justify_items": null,
       "left": null,
       "margin": null,
       "max_height": null,
       "max_width": null,
       "min_height": null,
       "min_width": null,
       "object_fit": null,
       "object_position": null,
       "order": null,
       "overflow": null,
       "overflow_x": null,
       "overflow_y": null,
       "padding": null,
       "right": null,
       "top": null,
       "visibility": null,
       "width": null
      }
     },
     "211a3ec679ac42659f74b511cebee63b": {
      "model_module": "@jupyter-widgets/base",
      "model_module_version": "1.2.0",
      "model_name": "LayoutModel",
      "state": {
       "_model_module": "@jupyter-widgets/base",
       "_model_module_version": "1.2.0",
       "_model_name": "LayoutModel",
       "_view_count": null,
       "_view_module": "@jupyter-widgets/base",
       "_view_module_version": "1.2.0",
       "_view_name": "LayoutView",
       "align_content": null,
       "align_items": null,
       "align_self": null,
       "border": null,
       "bottom": null,
       "display": null,
       "flex": null,
       "flex_flow": null,
       "grid_area": null,
       "grid_auto_columns": null,
       "grid_auto_flow": null,
       "grid_auto_rows": null,
       "grid_column": null,
       "grid_gap": null,
       "grid_row": null,
       "grid_template_areas": null,
       "grid_template_columns": null,
       "grid_template_rows": null,
       "height": null,
       "justify_content": null,
       "justify_items": null,
       "left": null,
       "margin": null,
       "max_height": null,
       "max_width": null,
       "min_height": null,
       "min_width": null,
       "object_fit": null,
       "object_position": null,
       "order": null,
       "overflow": null,
       "overflow_x": null,
       "overflow_y": null,
       "padding": null,
       "right": null,
       "top": null,
       "visibility": null,
       "width": null
      }
     },
     "21c3e870f10e47f480378892b94a8774": {
      "model_module": "@jupyter-widgets/controls",
      "model_module_version": "1.5.0",
      "model_name": "ProgressStyleModel",
      "state": {
       "_model_module": "@jupyter-widgets/controls",
       "_model_module_version": "1.5.0",
       "_model_name": "ProgressStyleModel",
       "_view_count": null,
       "_view_module": "@jupyter-widgets/base",
       "_view_module_version": "1.2.0",
       "_view_name": "StyleView",
       "bar_color": null,
       "description_width": "initial"
      }
     },
     "43c5ab6c9b864d0c816d5311f95f1c11": {
      "model_module": "@jupyter-widgets/controls",
      "model_module_version": "1.5.0",
      "model_name": "HBoxModel",
      "state": {
       "_dom_classes": [],
       "_model_module": "@jupyter-widgets/controls",
       "_model_module_version": "1.5.0",
       "_model_name": "HBoxModel",
       "_view_count": null,
       "_view_module": "@jupyter-widgets/controls",
       "_view_module_version": "1.5.0",
       "_view_name": "HBoxView",
       "box_style": "",
       "children": [
        "IPY_MODEL_fb9217ce4dee4d4da4c0a25f1f2829ad",
        "IPY_MODEL_9b467402fd1749dc9fcd034be8ccf2c0"
       ],
       "layout": "IPY_MODEL_65765627bffa4c54b772432c8d845ee4"
      }
     },
     "65765627bffa4c54b772432c8d845ee4": {
      "model_module": "@jupyter-widgets/base",
      "model_module_version": "1.2.0",
      "model_name": "LayoutModel",
      "state": {
       "_model_module": "@jupyter-widgets/base",
       "_model_module_version": "1.2.0",
       "_model_name": "LayoutModel",
       "_view_count": null,
       "_view_module": "@jupyter-widgets/base",
       "_view_module_version": "1.2.0",
       "_view_name": "LayoutView",
       "align_content": null,
       "align_items": null,
       "align_self": null,
       "border": null,
       "bottom": null,
       "display": null,
       "flex": null,
       "flex_flow": null,
       "grid_area": null,
       "grid_auto_columns": null,
       "grid_auto_flow": null,
       "grid_auto_rows": null,
       "grid_column": null,
       "grid_gap": null,
       "grid_row": null,
       "grid_template_areas": null,
       "grid_template_columns": null,
       "grid_template_rows": null,
       "height": null,
       "justify_content": null,
       "justify_items": null,
       "left": null,
       "margin": null,
       "max_height": null,
       "max_width": null,
       "min_height": null,
       "min_width": null,
       "object_fit": null,
       "object_position": null,
       "order": null,
       "overflow": null,
       "overflow_x": null,
       "overflow_y": null,
       "padding": null,
       "right": null,
       "top": null,
       "visibility": null,
       "width": null
      }
     },
     "6cd8236e1d504c808501b01c7075f79c": {
      "model_module": "@jupyter-widgets/base",
      "model_module_version": "1.2.0",
      "model_name": "LayoutModel",
      "state": {
       "_model_module": "@jupyter-widgets/base",
       "_model_module_version": "1.2.0",
       "_model_name": "LayoutModel",
       "_view_count": null,
       "_view_module": "@jupyter-widgets/base",
       "_view_module_version": "1.2.0",
       "_view_name": "LayoutView",
       "align_content": null,
       "align_items": null,
       "align_self": null,
       "border": null,
       "bottom": null,
       "display": null,
       "flex": null,
       "flex_flow": null,
       "grid_area": null,
       "grid_auto_columns": null,
       "grid_auto_flow": null,
       "grid_auto_rows": null,
       "grid_column": null,
       "grid_gap": null,
       "grid_row": null,
       "grid_template_areas": null,
       "grid_template_columns": null,
       "grid_template_rows": null,
       "height": null,
       "justify_content": null,
       "justify_items": null,
       "left": null,
       "margin": null,
       "max_height": null,
       "max_width": null,
       "min_height": null,
       "min_width": null,
       "object_fit": null,
       "object_position": null,
       "order": null,
       "overflow": null,
       "overflow_x": null,
       "overflow_y": null,
       "padding": null,
       "right": null,
       "top": null,
       "visibility": null,
       "width": null
      }
     },
     "89e7fac409bb48fd8c80300b23658ecb": {
      "model_module": "@jupyter-widgets/controls",
      "model_module_version": "1.5.0",
      "model_name": "DescriptionStyleModel",
      "state": {
       "_model_module": "@jupyter-widgets/controls",
       "_model_module_version": "1.5.0",
       "_model_name": "DescriptionStyleModel",
       "_view_count": null,
       "_view_module": "@jupyter-widgets/base",
       "_view_module_version": "1.2.0",
       "_view_name": "StyleView",
       "description_width": ""
      }
     },
     "8cd1c7a286754220bd4214d2250a9cf6": {
      "model_module": "@jupyter-widgets/controls",
      "model_module_version": "1.5.0",
      "model_name": "FloatProgressModel",
      "state": {
       "_dom_classes": [],
       "_model_module": "@jupyter-widgets/controls",
       "_model_module_version": "1.5.0",
       "_model_name": "FloatProgressModel",
       "_view_count": null,
       "_view_module": "@jupyter-widgets/controls",
       "_view_module_version": "1.5.0",
       "_view_name": "ProgressView",
       "bar_style": "success",
       "description": "Downloading: 100%",
       "description_tooltip": null,
       "layout": "IPY_MODEL_be294a4bc5a345d49966a9c9df10a27e",
       "max": 466.0,
       "min": 0.0,
       "orientation": "horizontal",
       "style": "IPY_MODEL_21c3e870f10e47f480378892b94a8774",
       "value": 466.0
      }
     },
     "8f6d3e19e55c4578b177e29ae85a7a69": {
      "model_module": "@jupyter-widgets/controls",
      "model_module_version": "1.5.0",
      "model_name": "ProgressStyleModel",
      "state": {
       "_model_module": "@jupyter-widgets/controls",
       "_model_module_version": "1.5.0",
       "_model_name": "ProgressStyleModel",
       "_view_count": null,
       "_view_module": "@jupyter-widgets/base",
       "_view_module_version": "1.2.0",
       "_view_name": "StyleView",
       "bar_color": null,
       "description_width": "initial"
      }
     },
     "9693728d8b8744fb9d577b5c596144f2": {
      "model_module": "@jupyter-widgets/base",
      "model_module_version": "1.2.0",
      "model_name": "LayoutModel",
      "state": {
       "_model_module": "@jupyter-widgets/base",
       "_model_module_version": "1.2.0",
       "_model_name": "LayoutModel",
       "_view_count": null,
       "_view_module": "@jupyter-widgets/base",
       "_view_module_version": "1.2.0",
       "_view_name": "LayoutView",
       "align_content": null,
       "align_items": null,
       "align_self": null,
       "border": null,
       "bottom": null,
       "display": null,
       "flex": null,
       "flex_flow": null,
       "grid_area": null,
       "grid_auto_columns": null,
       "grid_auto_flow": null,
       "grid_auto_rows": null,
       "grid_column": null,
       "grid_gap": null,
       "grid_row": null,
       "grid_template_areas": null,
       "grid_template_columns": null,
       "grid_template_rows": null,
       "height": null,
       "justify_content": null,
       "justify_items": null,
       "left": null,
       "margin": null,
       "max_height": null,
       "max_width": null,
       "min_height": null,
       "min_width": null,
       "object_fit": null,
       "object_position": null,
       "order": null,
       "overflow": null,
       "overflow_x": null,
       "overflow_y": null,
       "padding": null,
       "right": null,
       "top": null,
       "visibility": null,
       "width": null
      }
     },
     "9b467402fd1749dc9fcd034be8ccf2c0": {
      "model_module": "@jupyter-widgets/controls",
      "model_module_version": "1.5.0",
      "model_name": "HTMLModel",
      "state": {
       "_dom_classes": [],
       "_model_module": "@jupyter-widgets/controls",
       "_model_module_version": "1.5.0",
       "_model_name": "HTMLModel",
       "_view_count": null,
       "_view_module": "@jupyter-widgets/controls",
       "_view_module_version": "1.5.0",
       "_view_name": "HTMLView",
       "description": "",
       "description_tooltip": null,
       "layout": "IPY_MODEL_a02fd336874f41c9b7660db96845d727",
       "placeholder": "​",
       "style": "IPY_MODEL_e60fcb783b784918871500c187deda47",
       "value": " 911M/911M [00:47&lt;00:00, 19.3MB/s]"
      }
     },
     "a02fd336874f41c9b7660db96845d727": {
      "model_module": "@jupyter-widgets/base",
      "model_module_version": "1.2.0",
      "model_name": "LayoutModel",
      "state": {
       "_model_module": "@jupyter-widgets/base",
       "_model_module_version": "1.2.0",
       "_model_name": "LayoutModel",
       "_view_count": null,
       "_view_module": "@jupyter-widgets/base",
       "_view_module_version": "1.2.0",
       "_view_name": "LayoutView",
       "align_content": null,
       "align_items": null,
       "align_self": null,
       "border": null,
       "bottom": null,
       "display": null,
       "flex": null,
       "flex_flow": null,
       "grid_area": null,
       "grid_auto_columns": null,
       "grid_auto_flow": null,
       "grid_auto_rows": null,
       "grid_column": null,
       "grid_gap": null,
       "grid_row": null,
       "grid_template_areas": null,
       "grid_template_columns": null,
       "grid_template_rows": null,
       "height": null,
       "justify_content": null,
       "justify_items": null,
       "left": null,
       "margin": null,
       "max_height": null,
       "max_width": null,
       "min_height": null,
       "min_width": null,
       "object_fit": null,
       "object_position": null,
       "order": null,
       "overflow": null,
       "overflow_x": null,
       "overflow_y": null,
       "padding": null,
       "right": null,
       "top": null,
       "visibility": null,
       "width": null
      }
     },
     "a6996bfb9a9a47c4911b816e32f40c20": {
      "model_module": "@jupyter-widgets/controls",
      "model_module_version": "1.5.0",
      "model_name": "ProgressStyleModel",
      "state": {
       "_model_module": "@jupyter-widgets/controls",
       "_model_module_version": "1.5.0",
       "_model_name": "ProgressStyleModel",
       "_view_count": null,
       "_view_module": "@jupyter-widgets/base",
       "_view_module_version": "1.2.0",
       "_view_name": "StyleView",
       "bar_color": null,
       "description_width": "initial"
      }
     },
     "af8554d32d564e0196f190196de97153": {
      "model_module": "@jupyter-widgets/controls",
      "model_module_version": "1.5.0",
      "model_name": "HBoxModel",
      "state": {
       "_dom_classes": [],
       "_model_module": "@jupyter-widgets/controls",
       "_model_module_version": "1.5.0",
       "_model_name": "HBoxModel",
       "_view_count": null,
       "_view_module": "@jupyter-widgets/controls",
       "_view_module_version": "1.5.0",
       "_view_name": "HBoxView",
       "box_style": "",
       "children": [
        "IPY_MODEL_8cd1c7a286754220bd4214d2250a9cf6",
        "IPY_MODEL_b222678aa0ad4e56a413367534e51537"
       ],
       "layout": "IPY_MODEL_bbc5b5b92bd147ae94b779fe0e661283"
      }
     },
     "b222678aa0ad4e56a413367534e51537": {
      "model_module": "@jupyter-widgets/controls",
      "model_module_version": "1.5.0",
      "model_name": "HTMLModel",
      "state": {
       "_dom_classes": [],
       "_model_module": "@jupyter-widgets/controls",
       "_model_module_version": "1.5.0",
       "_model_name": "HTMLModel",
       "_view_count": null,
       "_view_module": "@jupyter-widgets/controls",
       "_view_module_version": "1.5.0",
       "_view_name": "HTMLView",
       "description": "",
       "description_tooltip": null,
       "layout": "IPY_MODEL_6cd8236e1d504c808501b01c7075f79c",
       "placeholder": "​",
       "style": "IPY_MODEL_89e7fac409bb48fd8c80300b23658ecb",
       "value": " 466/466 [00:00&lt;00:00, 1.20kB/s]"
      }
     },
     "bbc5b5b92bd147ae94b779fe0e661283": {
      "model_module": "@jupyter-widgets/base",
      "model_module_version": "1.2.0",
      "model_name": "LayoutModel",
      "state": {
       "_model_module": "@jupyter-widgets/base",
       "_model_module_version": "1.2.0",
       "_model_name": "LayoutModel",
       "_view_count": null,
       "_view_module": "@jupyter-widgets/base",
       "_view_module_version": "1.2.0",
       "_view_name": "LayoutView",
       "align_content": null,
       "align_items": null,
       "align_self": null,
       "border": null,
       "bottom": null,
       "display": null,
       "flex": null,
       "flex_flow": null,
       "grid_area": null,
       "grid_auto_columns": null,
       "grid_auto_flow": null,
       "grid_auto_rows": null,
       "grid_column": null,
       "grid_gap": null,
       "grid_row": null,
       "grid_template_areas": null,
       "grid_template_columns": null,
       "grid_template_rows": null,
       "height": null,
       "justify_content": null,
       "justify_items": null,
       "left": null,
       "margin": null,
       "max_height": null,
       "max_width": null,
       "min_height": null,
       "min_width": null,
       "object_fit": null,
       "object_position": null,
       "order": null,
       "overflow": null,
       "overflow_x": null,
       "overflow_y": null,
       "padding": null,
       "right": null,
       "top": null,
       "visibility": null,
       "width": null
      }
     },
     "be294a4bc5a345d49966a9c9df10a27e": {
      "model_module": "@jupyter-widgets/base",
      "model_module_version": "1.2.0",
      "model_name": "LayoutModel",
      "state": {
       "_model_module": "@jupyter-widgets/base",
       "_model_module_version": "1.2.0",
       "_model_name": "LayoutModel",
       "_view_count": null,
       "_view_module": "@jupyter-widgets/base",
       "_view_module_version": "1.2.0",
       "_view_name": "LayoutView",
       "align_content": null,
       "align_items": null,
       "align_self": null,
       "border": null,
       "bottom": null,
       "display": null,
       "flex": null,
       "flex_flow": null,
       "grid_area": null,
       "grid_auto_columns": null,
       "grid_auto_flow": null,
       "grid_auto_rows": null,
       "grid_column": null,
       "grid_gap": null,
       "grid_row": null,
       "grid_template_areas": null,
       "grid_template_columns": null,
       "grid_template_rows": null,
       "height": null,
       "justify_content": null,
       "justify_items": null,
       "left": null,
       "margin": null,
       "max_height": null,
       "max_width": null,
       "min_height": null,
       "min_width": null,
       "object_fit": null,
       "object_position": null,
       "order": null,
       "overflow": null,
       "overflow_x": null,
       "overflow_y": null,
       "padding": null,
       "right": null,
       "top": null,
       "visibility": null,
       "width": null
      }
     },
     "c52079f3b9b24c629efe96e6b5f2ff9a": {
      "model_module": "@jupyter-widgets/controls",
      "model_module_version": "1.5.0",
      "model_name": "FloatProgressModel",
      "state": {
       "_dom_classes": [],
       "_model_module": "@jupyter-widgets/controls",
       "_model_module_version": "1.5.0",
       "_model_name": "FloatProgressModel",
       "_view_count": null,
       "_view_module": "@jupyter-widgets/controls",
       "_view_module_version": "1.5.0",
       "_view_name": "ProgressView",
       "bar_style": "success",
       "description": "Downloading: 100%",
       "description_tooltip": null,
       "layout": "IPY_MODEL_211a3ec679ac42659f74b511cebee63b",
       "max": 995526.0,
       "min": 0.0,
       "orientation": "horizontal",
       "style": "IPY_MODEL_a6996bfb9a9a47c4911b816e32f40c20",
       "value": 995526.0
      }
     },
     "d121ab2960744ad8847fae69980ca3a6": {
      "model_module": "@jupyter-widgets/controls",
      "model_module_version": "1.5.0",
      "model_name": "DescriptionStyleModel",
      "state": {
       "_model_module": "@jupyter-widgets/controls",
       "_model_module_version": "1.5.0",
       "_model_name": "DescriptionStyleModel",
       "_view_count": null,
       "_view_module": "@jupyter-widgets/base",
       "_view_module_version": "1.2.0",
       "_view_name": "StyleView",
       "description_width": ""
      }
     },
     "d39826d1ed8d427a953ad2f379d6b0ff": {
      "model_module": "@jupyter-widgets/controls",
      "model_module_version": "1.5.0",
      "model_name": "HTMLModel",
      "state": {
       "_dom_classes": [],
       "_model_module": "@jupyter-widgets/controls",
       "_model_module_version": "1.5.0",
       "_model_name": "HTMLModel",
       "_view_count": null,
       "_view_module": "@jupyter-widgets/controls",
       "_view_module_version": "1.5.0",
       "_view_name": "HTMLView",
       "description": "",
       "description_tooltip": null,
       "layout": "IPY_MODEL_155e181a48194579a937cb3fb12b9a83",
       "placeholder": "​",
       "style": "IPY_MODEL_d121ab2960744ad8847fae69980ca3a6",
       "value": " 996k/996k [00:00&lt;00:00, 1.60MB/s]"
      }
     },
     "d8514233e9a24578a700e76a5aa4398a": {
      "model_module": "@jupyter-widgets/controls",
      "model_module_version": "1.5.0",
      "model_name": "HBoxModel",
      "state": {
       "_dom_classes": [],
       "_model_module": "@jupyter-widgets/controls",
       "_model_module_version": "1.5.0",
       "_model_name": "HBoxModel",
       "_view_count": null,
       "_view_module": "@jupyter-widgets/controls",
       "_view_module_version": "1.5.0",
       "_view_name": "HBoxView",
       "box_style": "",
       "children": [
        "IPY_MODEL_c52079f3b9b24c629efe96e6b5f2ff9a",
        "IPY_MODEL_d39826d1ed8d427a953ad2f379d6b0ff"
       ],
       "layout": "IPY_MODEL_9693728d8b8744fb9d577b5c596144f2"
      }
     },
     "e60fcb783b784918871500c187deda47": {
      "model_module": "@jupyter-widgets/controls",
      "model_module_version": "1.5.0",
      "model_name": "DescriptionStyleModel",
      "state": {
       "_model_module": "@jupyter-widgets/controls",
       "_model_module_version": "1.5.0",
       "_model_name": "DescriptionStyleModel",
       "_view_count": null,
       "_view_module": "@jupyter-widgets/base",
       "_view_module_version": "1.2.0",
       "_view_name": "StyleView",
       "description_width": ""
      }
     },
     "fb9217ce4dee4d4da4c0a25f1f2829ad": {
      "model_module": "@jupyter-widgets/controls",
      "model_module_version": "1.5.0",
      "model_name": "FloatProgressModel",
      "state": {
       "_dom_classes": [],
       "_model_module": "@jupyter-widgets/controls",
       "_model_module_version": "1.5.0",
       "_model_name": "FloatProgressModel",
       "_view_count": null,
       "_view_module": "@jupyter-widgets/controls",
       "_view_module_version": "1.5.0",
       "_view_name": "ProgressView",
       "bar_style": "success",
       "description": "Downloading: 100%",
       "description_tooltip": null,
       "layout": "IPY_MODEL_17998d4d3796451d8185cc796c677820",
       "max": 910749124.0,
       "min": 0.0,
       "orientation": "horizontal",
       "style": "IPY_MODEL_8f6d3e19e55c4578b177e29ae85a7a69",
       "value": 910749124.0
      }
     }
    },
    "version_major": 2,
    "version_minor": 0
   }
  }
 },
 "nbformat": 4,
 "nbformat_minor": 4
}
